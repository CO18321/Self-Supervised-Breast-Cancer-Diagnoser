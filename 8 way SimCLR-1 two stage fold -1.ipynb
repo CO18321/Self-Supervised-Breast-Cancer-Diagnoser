{
 "cells": [
  {
   "cell_type": "code",
   "execution_count": 1,
   "id": "cfbf1997",
   "metadata": {},
   "outputs": [],
   "source": [
    "import torch\n",
    "import torch.nn as nn\n",
    "import torchvision\n",
    "\n",
    "from torch.utils.data import (\n",
    "    Dataset,\n",
    "    DataLoader,\n",
    ")\n",
    "\n",
    "from torchvision.datasets import ImageFolder\n",
    "from torchvision.transforms import (\n",
    "    RandomResizedCrop,\n",
    "    RandomHorizontalFlip,\n",
    "    ColorJitter,\n",
    "    RandomGrayscale,\n",
    "    RandomApply,\n",
    "    Compose,\n",
    "    GaussianBlur,\n",
    "    ToTensor,\n",
    "    Resize, CenterCrop,\n",
    "    ToPILImage,\n",
    "    Normalize,\n",
    "    RandomVerticalFlip,\n",
    "    RandomRotation,\n",
    ")\n",
    "\n",
    "import torchvision.models as models\n",
    "from torchvision import transforms\n",
    "\n",
    "import os\n",
    "import glob\n",
    "import time\n",
    "from skimage import io\n",
    "import matplotlib.pyplot as plt"
   ]
  },
  {
   "cell_type": "code",
   "execution_count": 2,
   "id": "6ef55ca6",
   "metadata": {},
   "outputs": [
    {
     "name": "stdout",
     "output_type": "stream",
     "text": [
      "Torch-Version 1.10.2+cu102\n",
      "DEVICE: cuda\n"
     ]
    }
   ],
   "source": [
    "print(f'Torch-Version {torch.__version__}')\n",
    "DEVICE = torch.device(\"cuda\" if torch.cuda.is_available() else \"cpu\")\n",
    "print(f'DEVICE: {DEVICE}')"
   ]
  },
  {
   "cell_type": "code",
   "execution_count": 3,
   "id": "ca7a0db7",
   "metadata": {},
   "outputs": [],
   "source": [
    "def get_complete_transform(output_shape, kernel_size, s=1.0):\n",
    "    \"\"\"\n",
    "    The color distortion transform.\n",
    "    \n",
    "    Args:\n",
    "        s: Strength parameter.\n",
    "    \n",
    "    Returns:\n",
    "        A color distortion transform.\n",
    "    \"\"\"\n",
    "    image_transform = Compose([\n",
    "                ToPILImage(),\n",
    "                Resize(255),\n",
    "                CenterCrop(224),\n",
    "                RandomResizedCrop(224),\n",
    "                RandomGrayscale(p=0.2),\n",
    "                RandomHorizontalFlip(p=0.5),\n",
    "                RandomVerticalFlip(p = 0.5),\n",
    "                RandomApply([ColorJitter(0.4, 0.4, 0.4, 0.2)], p=0.8),      # random color jitter\n",
    "                RandomApply([ GaussianBlur(kernel_size=[21,21])], p=0.5),   \n",
    "                ToTensor(),\n",
    "                Normalize(mean= [0.485, 0.456, 0.406], \n",
    "                          std = [0.229, 0.224, 0.225], \n",
    "                          inplace = True),\n",
    "                ])\n",
    "    \n",
    "\n",
    "    return image_transform\n",
    "\n",
    "\n",
    "# generate two views for an image\n",
    "class ContrastiveLearningViewGenerator(object):\n",
    "    \"\"\"Take two random crops of one image as the query and key.\"\"\"\n",
    "\n",
    "    def __init__(self, base_transform, n_views=2):\n",
    "        self.base_transform = base_transform\n",
    "        self.n_views = n_views\n",
    "\n",
    "    def __call__(self, x):\n",
    "        views = [self.base_transform(x) for i in range(self.n_views)]\n",
    "        return views"
   ]
  },
  {
   "cell_type": "code",
   "execution_count": 5,
   "id": "783a83d1",
   "metadata": {},
   "outputs": [
    {
     "name": "stdout",
     "output_type": "stream",
     "text": [
      "{'A': 0, 'DC': 1, 'F': 2, 'LC': 3, 'MC': 4, 'PC': 5, 'PT': 6, 'TA': 7}\n"
     ]
    }
   ],
   "source": [
    "labels = ['DC', 'LC', 'MC', 'PC', 'PT', 'F', 'TA', 'A']\n",
    "labels.sort()\n",
    "labelMap = {label: index for index, label in enumerate(labels)}\n",
    "print(labelMap)"
   ]
  },
  {
   "cell_type": "code",
   "execution_count": 6,
   "id": "3eb1ccac",
   "metadata": {},
   "outputs": [],
   "source": [
    "class ContrastiveDataset(Dataset):\n",
    "\n",
    "    def __init__(self, file_name, transform=None):\n",
    "        \n",
    "        self.list_images = []\n",
    "        with open(file_name, 'r') as f:\n",
    "            csvreader = csv.reader(f)\n",
    "            for row in csvreader:\n",
    "                self.list_images.append(row)\n",
    "        \n",
    "        self.transform = transform\n",
    "    \n",
    "    def __len__(self):\n",
    "        return len(self.list_images)\n",
    "    \n",
    "    def __getitem__(self, index):\n",
    "        img_name = self.list_images[index][0]\n",
    "        image = io.imread(img_name)\n",
    "        \n",
    "        if self.transform:\n",
    "            views = self.transform(image)\n",
    "        return views\n",
    "                "
   ]
  },
  {
   "cell_type": "code",
   "execution_count": 115,
   "id": "964841c7",
   "metadata": {},
   "outputs": [],
   "source": [
    "class ClassificationDataset(Dataset):\n",
    "    def __init__(self, file_name, transform=None):\n",
    "        self.list_images = []\n",
    "       \n",
    "        with open(file_name, 'r') as f:\n",
    "            csvreader = csv.reader(f)\n",
    "            for row in csvreader:\n",
    "                self.list_images.append(row)\n",
    "        self.transform = Compose([\n",
    "            ToPILImage(),\n",
    "            Resize(255),\n",
    "            CenterCrop(224),          \n",
    "            ToTensor(),\n",
    "            transforms.RandomSolarize(1, p=0.5),\n",
    "            transforms.RandomRotation(degrees=(0, 180)),\n",
    "            Normalize(mean= [0.485, 0.456, 0.406], \n",
    "                      std = [0.229, 0.224, 0.225], \n",
    "                      inplace = True),\n",
    "            ])\n",
    "    \n",
    "    def __len__(self):\n",
    "        return len(self.list_images)\n",
    "    \n",
    "    def __getitem__(self, index):\n",
    "        img_name = self.list_images[index][0]\n",
    "        image = io.imread(img_name)\n",
    "        \n",
    "        class_name = img_name.split('/')[-1].split('_')[2].split('-')[0]\n",
    "        label = labelMap[class_name]\n",
    "        \n",
    "        if self.transform:\n",
    "            class_image = self.transform(image)\n",
    "        return class_image, label\n",
    "    "
   ]
  },
  {
   "cell_type": "code",
   "execution_count": 116,
   "id": "6f39df4a",
   "metadata": {},
   "outputs": [],
   "source": [
    "base = '../Fold_1_5/'"
   ]
  },
  {
   "cell_type": "code",
   "execution_count": 117,
   "id": "d2d0a984",
   "metadata": {},
   "outputs": [],
   "source": [
    "output_shape = [224,224]\n",
    "kernel_size = [21,21] # 10% of the output_shape\n",
    "\n",
    "# base SimCLR data augmentation\n",
    "base_transforms = get_complete_transform(output_shape=output_shape, kernel_size=kernel_size, s=1.0)\n",
    "\n",
    "# The custom transform\n",
    "custom_transform = ContrastiveLearningViewGenerator(base_transform=base_transforms)\n",
    "\n",
    "\n",
    "train_ds = ContrastiveDataset(\n",
    "    file_name= base + 'train_80.csv',\n",
    "    transform=custom_transform\n",
    ")\n",
    "\n",
    "valid_ds = ContrastiveDataset(\n",
    "    file_name= base + 'val_20.csv',\n",
    "    transform=custom_transform\n",
    ")\n"
   ]
  },
  {
   "cell_type": "code",
   "execution_count": 118,
   "id": "f0562865",
   "metadata": {},
   "outputs": [],
   "source": [
    "class_train_ds = ClassificationDataset(\n",
    "    file_name= base + 'train_80.csv',\n",
    ")\n",
    "\n",
    "class_valid_ds = ClassificationDataset(\n",
    "    file_name= base + 'val_20.csv'\n",
    ")\n"
   ]
  },
  {
   "cell_type": "code",
   "execution_count": 119,
   "id": "eeca9ccc",
   "metadata": {},
   "outputs": [
    {
     "name": "stdout",
     "output_type": "stream",
     "text": [
      "6327 1582\n"
     ]
    }
   ],
   "source": [
    "print(len(class_train_ds), len(class_valid_ds))"
   ]
  },
  {
   "cell_type": "code",
   "execution_count": 120,
   "id": "20a501a1",
   "metadata": {},
   "outputs": [
    {
     "name": "stdout",
     "output_type": "stream",
     "text": [
      "(tensor([[[-2.1179, -2.1179, -2.1179,  ..., -2.1179, -2.1179, -2.1179],\n",
      "         [-2.1179, -2.1179, -2.1179,  ..., -2.1179, -2.1179, -2.1179],\n",
      "         [-2.1179, -2.1179, -2.1179,  ..., -2.1179, -2.1179, -2.1179],\n",
      "         ...,\n",
      "         [-2.1179, -2.1179, -2.1179,  ..., -2.1179, -2.1179, -2.1179],\n",
      "         [-2.1179, -2.1179, -2.1179,  ..., -2.1179, -2.1179, -2.1179],\n",
      "         [-2.1179, -2.1179, -2.1179,  ..., -2.1179, -2.1179, -2.1179]],\n",
      "\n",
      "        [[-2.0357, -2.0357, -2.0357,  ..., -2.0357, -2.0357, -2.0357],\n",
      "         [-2.0357, -2.0357, -2.0357,  ..., -2.0357, -2.0357, -2.0357],\n",
      "         [-2.0357, -2.0357, -2.0357,  ..., -2.0357, -2.0357, -2.0357],\n",
      "         ...,\n",
      "         [-2.0357, -2.0357, -2.0357,  ..., -2.0357, -2.0357, -2.0357],\n",
      "         [-2.0357, -2.0357, -2.0357,  ..., -2.0357, -2.0357, -2.0357],\n",
      "         [-2.0357, -2.0357, -2.0357,  ..., -2.0357, -2.0357, -2.0357]],\n",
      "\n",
      "        [[-1.8044, -1.8044, -1.8044,  ..., -1.8044, -1.8044, -1.8044],\n",
      "         [-1.8044, -1.8044, -1.8044,  ..., -1.8044, -1.8044, -1.8044],\n",
      "         [-1.8044, -1.8044, -1.8044,  ..., -1.8044, -1.8044, -1.8044],\n",
      "         ...,\n",
      "         [-1.8044, -1.8044, -1.8044,  ..., -1.8044, -1.8044, -1.8044],\n",
      "         [-1.8044, -1.8044, -1.8044,  ..., -1.8044, -1.8044, -1.8044],\n",
      "         [-1.8044, -1.8044, -1.8044,  ..., -1.8044, -1.8044, -1.8044]]]), 1)\n"
     ]
    }
   ],
   "source": [
    "print((class_train_ds[140]))"
   ]
  },
  {
   "cell_type": "code",
   "execution_count": 121,
   "id": "1992919a",
   "metadata": {},
   "outputs": [
    {
     "name": "stdout",
     "output_type": "stream",
     "text": [
      "6327 1582\n"
     ]
    }
   ],
   "source": [
    "print(len(train_ds), len(valid_ds))"
   ]
  },
  {
   "cell_type": "code",
   "execution_count": 122,
   "id": "98982cf4",
   "metadata": {},
   "outputs": [
    {
     "name": "stdout",
     "output_type": "stream",
     "text": [
      "[tensor([[[1.5639, 1.4440, 1.2557,  ..., 1.4269, 1.3413, 1.3070],\n",
      "         [1.5125, 1.4440, 1.2557,  ..., 1.4269, 1.3927, 1.3927],\n",
      "         [1.5125, 1.4269, 1.2043,  ..., 1.4783, 1.5639, 1.5810],\n",
      "         ...,\n",
      "         [1.2385, 1.2557, 1.4612,  ..., 2.2489, 2.2318, 2.2318],\n",
      "         [1.1872, 1.2385, 1.4098,  ..., 2.2489, 2.2489, 2.2489],\n",
      "         [1.1700, 1.2214, 1.3755,  ..., 2.2489, 2.2489, 2.2489]],\n",
      "\n",
      "        [[1.6583, 1.5707, 1.3606,  ..., 1.1681, 1.2556, 1.2556],\n",
      "         [1.6057, 1.5532, 1.3606,  ..., 1.1856, 1.2731, 1.3431],\n",
      "         [1.5882, 1.5532, 1.3431,  ..., 1.2381, 1.4657, 1.5182],\n",
      "         ...,\n",
      "         [0.9580, 1.0105, 1.2206,  ..., 2.4286, 2.4111, 2.4111],\n",
      "         [0.8529, 0.9405, 1.0980,  ..., 2.4286, 2.4286, 2.4286],\n",
      "         [0.8354, 0.8529, 1.0980,  ..., 2.4286, 2.4286, 2.4286]],\n",
      "\n",
      "        [[2.5006, 2.4657, 2.2566,  ..., 1.8034, 1.7511, 1.7163],\n",
      "         [2.5006, 2.4657, 2.2566,  ..., 1.8383, 1.8034, 1.8034],\n",
      "         [2.4831, 2.4308, 2.2914,  ..., 1.9428, 2.0125, 2.0300],\n",
      "         ...,\n",
      "         [1.9428, 1.9951, 2.1520,  ..., 2.5877, 2.5877, 2.5877],\n",
      "         [1.8208, 1.8557, 2.0474,  ..., 2.6051, 2.6051, 2.6051],\n",
      "         [1.7685, 1.8208, 1.9951,  ..., 2.6051, 2.6051, 2.6051]]]), tensor([[[1.7180, 1.7180, 1.7180,  ..., 1.4954, 1.3584, 1.3242],\n",
      "         [1.7180, 1.7180, 1.7180,  ..., 1.4783, 1.3413, 1.3070],\n",
      "         [1.7180, 1.7180, 1.7180,  ..., 1.4269, 1.2899, 1.2557],\n",
      "         ...,\n",
      "         [1.2385, 1.2557, 1.3070,  ..., 1.6667, 1.6495, 1.6495],\n",
      "         [1.2214, 1.2385, 1.3070,  ..., 1.7009, 1.6838, 1.6838],\n",
      "         [1.2214, 1.2385, 1.3070,  ..., 1.7009, 1.6838, 1.6838]],\n",
      "\n",
      "        [[2.1660, 2.1660, 2.1660,  ..., 1.0455, 0.9230, 0.9055],\n",
      "         [2.1660, 2.1660, 2.1660,  ..., 1.0280, 0.9055, 0.8880],\n",
      "         [2.1660, 2.1660, 2.1660,  ..., 0.9755, 0.8529, 0.8354],\n",
      "         ...,\n",
      "         [1.2031, 1.2206, 1.3431,  ..., 1.3431, 1.3431, 1.3431],\n",
      "         [1.1681, 1.1856, 1.3081,  ..., 1.3431, 1.3431, 1.3431],\n",
      "         [1.1681, 1.1856, 1.3081,  ..., 1.3431, 1.3431, 1.3431]],\n",
      "\n",
      "        [[2.1171, 2.1171, 2.1171,  ..., 1.7860, 1.6465, 1.6117],\n",
      "         [2.1171, 2.1171, 2.1171,  ..., 1.7685, 1.6291, 1.5942],\n",
      "         [2.1171, 2.1171, 2.1171,  ..., 1.6988, 1.5594, 1.5245],\n",
      "         ...,\n",
      "         [1.5768, 1.5942, 1.6465,  ..., 2.0648, 2.1346, 2.1520],\n",
      "         [1.5768, 1.5942, 1.6291,  ..., 2.0125, 2.0823, 2.0997],\n",
      "         [1.5768, 1.5942, 1.6291,  ..., 2.0125, 2.0823, 2.0997]]])]\n"
     ]
    }
   ],
   "source": [
    "print((train_ds[0]))\n"
   ]
  },
  {
   "cell_type": "code",
   "execution_count": 123,
   "id": "a6a8579d",
   "metadata": {},
   "outputs": [
    {
     "name": "stderr",
     "output_type": "stream",
     "text": [
      "Clipping input data to the valid range for imshow with RGB data ([0..1] for floats or [0..255] for integers).\n",
      "Clipping input data to the valid range for imshow with RGB data ([0..1] for floats or [0..255] for integers).\n",
      "Clipping input data to the valid range for imshow with RGB data ([0..1] for floats or [0..255] for integers).\n",
      "Clipping input data to the valid range for imshow with RGB data ([0..1] for floats or [0..255] for integers).\n",
      "Clipping input data to the valid range for imshow with RGB data ([0..1] for floats or [0..255] for integers).\n",
      "Clipping input data to the valid range for imshow with RGB data ([0..1] for floats or [0..255] for integers).\n",
      "Clipping input data to the valid range for imshow with RGB data ([0..1] for floats or [0..255] for integers).\n",
      "Clipping input data to the valid range for imshow with RGB data ([0..1] for floats or [0..255] for integers).\n",
      "Clipping input data to the valid range for imshow with RGB data ([0..1] for floats or [0..255] for integers).\n",
      "Clipping input data to the valid range for imshow with RGB data ([0..1] for floats or [0..255] for integers).\n"
     ]
    },
    {
     "data": {
      "image/png": "[encoded data removed]",
      "text/plain": [
       "<Figure size 360x720 with 10 Axes>"
      ]
     },
     "metadata": {
      "needs_background": "light"
     },
     "output_type": "display_data"
    }
   ],
   "source": [
    "plt.figure(figsize=(5,10))\n",
    "def view_data(ds, index):\n",
    "    for i in range(1,6):\n",
    "        images = ds[i]\n",
    "        view1, view2 = images\n",
    "        plt.subplot(5,2,2*i-1)\n",
    "        plt.imshow(view1.permute(1,2,0))\n",
    "        plt.subplot(5,2,2*i)\n",
    "        plt.imshow(view2.permute(1,2,0))\n",
    "\n",
    "view_data(train_ds, 20)"
   ]
  },
  {
   "cell_type": "code",
   "execution_count": 124,
   "id": "54bfbea0",
   "metadata": {},
   "outputs": [
    {
     "name": "stderr",
     "output_type": "stream",
     "text": [
      "Clipping input data to the valid range for imshow with RGB data ([0..1] for floats or [0..255] for integers).\n",
      "Clipping input data to the valid range for imshow with RGB data ([0..1] for floats or [0..255] for integers).\n",
      "Clipping input data to the valid range for imshow with RGB data ([0..1] for floats or [0..255] for integers).\n",
      "Clipping input data to the valid range for imshow with RGB data ([0..1] for floats or [0..255] for integers).\n",
      "Clipping input data to the valid range for imshow with RGB data ([0..1] for floats or [0..255] for integers).\n",
      "Clipping input data to the valid range for imshow with RGB data ([0..1] for floats or [0..255] for integers).\n",
      "Clipping input data to the valid range for imshow with RGB data ([0..1] for floats or [0..255] for integers).\n",
      "Clipping input data to the valid range for imshow with RGB data ([0..1] for floats or [0..255] for integers).\n",
      "Clipping input data to the valid range for imshow with RGB data ([0..1] for floats or [0..255] for integers).\n",
      "Clipping input data to the valid range for imshow with RGB data ([0..1] for floats or [0..255] for integers).\n"
     ]
    },
    {
     "data": {
      "image/png": "[encoded data removed]",
      "text/plain": [
       "<Figure size 360x720 with 10 Axes>"
      ]
     },
     "metadata": {
      "needs_background": "light"
     },
     "output_type": "display_data"
    }
   ],
   "source": [
    "plt.figure(figsize=(5,10))\n",
    "def view_data(ds, index):\n",
    "    for i in range(1,6):\n",
    "        images = ds[i]\n",
    "        view1, view2 = images\n",
    "        plt.subplot(5,2,2*i-1)\n",
    "        plt.imshow(view1.permute(1,2,0))\n",
    "        plt.subplot(5,2,2*i)\n",
    "        plt.imshow(view2.permute(1,2,0))\n",
    "\n",
    "view_data(valid_ds, 20)"
   ]
  },
  {
   "cell_type": "code",
   "execution_count": 126,
   "id": "5a5c68c3",
   "metadata": {},
   "outputs": [
    {
     "name": "stderr",
     "output_type": "stream",
     "text": [
      "Clipping input data to the valid range for imshow with RGB data ([0..1] for floats or [0..255] for integers).\n",
      "Clipping input data to the valid range for imshow with RGB data ([0..1] for floats or [0..255] for integers).\n",
      "Clipping input data to the valid range for imshow with RGB data ([0..1] for floats or [0..255] for integers).\n",
      "Clipping input data to the valid range for imshow with RGB data ([0..1] for floats or [0..255] for integers).\n",
      "Clipping input data to the valid range for imshow with RGB data ([0..1] for floats or [0..255] for integers).\n",
      "Clipping input data to the valid range for imshow with RGB data ([0..1] for floats or [0..255] for integers).\n",
      "Clipping input data to the valid range for imshow with RGB data ([0..1] for floats or [0..255] for integers).\n",
      "Clipping input data to the valid range for imshow with RGB data ([0..1] for floats or [0..255] for integers).\n",
      "Clipping input data to the valid range for imshow with RGB data ([0..1] for floats or [0..255] for integers).\n",
      "Clipping input data to the valid range for imshow with RGB data ([0..1] for floats or [0..255] for integers).\n"
     ]
    },
    {
     "data": {
      "image/png": "[encoded data removed]",
      "text/plain": [
       "<Figure size 360x720 with 10 Axes>"
      ]
     },
     "metadata": {
      "needs_background": "light"
     },
     "output_type": "display_data"
    }
   ],
   "source": [
    "plt.figure(figsize=(5,10))\n",
    "def view_data(ds, index):\n",
    "    for i in range(1,6):\n",
    "        images = ds[i]\n",
    "        view1, _ = images\n",
    "        plt.subplot(5,2,2*i-1)\n",
    "        plt.imshow(view1.permute(1,2,0))\n",
    "        plt.subplot(5,2,2*i)\n",
    "        plt.imshow(view1.permute(1,2,0))\n",
    "\n",
    "view_data(class_valid_ds, 20)"
   ]
  },
  {
   "cell_type": "code",
   "execution_count": 127,
   "id": "d9219320",
   "metadata": {},
   "outputs": [],
   "source": [
    "BATCH_SIZE = 128\n",
    "\n",
    "# Building the data loader\n",
    "train_dl = torch.utils.data.DataLoader(\n",
    "    train_ds,\n",
    "    batch_size=BATCH_SIZE,\n",
    "    shuffle=True,\n",
    "    num_workers=os.cpu_count(),\n",
    "    drop_last=True,\n",
    "    pin_memory=True,\n",
    ")\n",
    "       \n",
    "valid_dl = torch.utils.data.DataLoader(\n",
    "    valid_ds,\n",
    "    batch_size=BATCH_SIZE,\n",
    "    shuffle=True,\n",
    "    num_workers=os.cpu_count(),\n",
    "    drop_last=True,\n",
    "    pin_memory=True,\n",
    ")\n"
   ]
  },
  {
   "cell_type": "code",
   "execution_count": 128,
   "id": "c5455f37",
   "metadata": {},
   "outputs": [],
   "source": [
    "class Identity(nn.Module):\n",
    "    def __init__(self):\n",
    "        super(Identity, self).__init__()\n",
    "    def forward(self, x):\n",
    "        return x\n",
    "    \n",
    "class SimCLRContrastive(nn.Module):\n",
    "    def __init__(self, backbone):\n",
    "        super().__init__()\n",
    "\n",
    "        self.encoder = backbone\n",
    "        \n",
    "        self.projection = nn.Sequential(\n",
    "            nn.Linear(2048, 1024),\n",
    "            nn.ReLU(),\n",
    "            nn.Linear(1024, 128)\n",
    "        )\n",
    "        \n",
    "    def forward(self, x):\n",
    "\n",
    "        x = torch.cat(x, dim=0)\n",
    "        encoding = self.encoder(x)\n",
    "\n",
    "        projection = self.projection(encoding) \n",
    "        return projection"
   ]
  },
  {
   "cell_type": "code",
   "execution_count": 129,
   "id": "6b35092d",
   "metadata": {},
   "outputs": [],
   "source": [
    "backbone = torchvision.models.resnet50(pretrained = True)\n",
    "backbone.fc = Identity()"
   ]
  },
  {
   "cell_type": "code",
   "execution_count": 130,
   "id": "9a5a4c29",
   "metadata": {},
   "outputs": [],
   "source": [
    "\n",
    "simclr_model = SimCLRContrastive(backbone).to(DEVICE)                       # network model\n",
    "cont_criterion = nn.CrossEntropyLoss().to(DEVICE)                # loss\n",
    "cont_optimizer = torch.optim.Adam(simclr_model.parameters(), weight_decay= (10**-6))     # optimizer"
   ]
  },
  {
   "cell_type": "code",
   "execution_count": 131,
   "id": "86d76ec2",
   "metadata": {},
   "outputs": [
    {
     "data": {
      "text/plain": [
       "ResNet(\n",
       "  (conv1): Conv2d(3, 64, kernel_size=(7, 7), stride=(2, 2), padding=(3, 3), bias=False)\n",
       "  (bn1): BatchNorm2d(64, eps=1e-05, momentum=0.1, affine=True, track_running_stats=True)\n",
       "  (relu): ReLU(inplace=True)\n",
       "  (maxpool): MaxPool2d(kernel_size=3, stride=2, padding=1, dilation=1, ceil_mode=False)\n",
       "  (layer1): Sequential(\n",
       "    (0): Bottleneck(\n",
       "      (conv1): Conv2d(64, 64, kernel_size=(1, 1), stride=(1, 1), bias=False)\n",
       "      (bn1): BatchNorm2d(64, eps=1e-05, momentum=0.1, affine=True, track_running_stats=True)\n",
       "      (conv2): Conv2d(64, 64, kernel_size=(3, 3), stride=(1, 1), padding=(1, 1), bias=False)\n",
       "      (bn2): BatchNorm2d(64, eps=1e-05, momentum=0.1, affine=True, track_running_stats=True)\n",
       "      (conv3): Conv2d(64, 256, kernel_size=(1, 1), stride=(1, 1), bias=False)\n",
       "      (bn3): BatchNorm2d(256, eps=1e-05, momentum=0.1, affine=True, track_running_stats=True)\n",
       "      (relu): ReLU(inplace=True)\n",
       "      (downsample): Sequential(\n",
       "        (0): Conv2d(64, 256, kernel_size=(1, 1), stride=(1, 1), bias=False)\n",
       "        (1): BatchNorm2d(256, eps=1e-05, momentum=0.1, affine=True, track_running_stats=True)\n",
       "      )\n",
       "    )\n",
       "    (1): Bottleneck(\n",
       "      (conv1): Conv2d(256, 64, kernel_size=(1, 1), stride=(1, 1), bias=False)\n",
       "      (bn1): BatchNorm2d(64, eps=1e-05, momentum=0.1, affine=True, track_running_stats=True)\n",
       "      (conv2): Conv2d(64, 64, kernel_size=(3, 3), stride=(1, 1), padding=(1, 1), bias=False)\n",
       "      (bn2): BatchNorm2d(64, eps=1e-05, momentum=0.1, affine=True, track_running_stats=True)\n",
       "      (conv3): Conv2d(64, 256, kernel_size=(1, 1), stride=(1, 1), bias=False)\n",
       "      (bn3): BatchNorm2d(256, eps=1e-05, momentum=0.1, affine=True, track_running_stats=True)\n",
       "      (relu): ReLU(inplace=True)\n",
       "    )\n",
       "    (2): Bottleneck(\n",
       "      (conv1): Conv2d(256, 64, kernel_size=(1, 1), stride=(1, 1), bias=False)\n",
       "      (bn1): BatchNorm2d(64, eps=1e-05, momentum=0.1, affine=True, track_running_stats=True)\n",
       "      (conv2): Conv2d(64, 64, kernel_size=(3, 3), stride=(1, 1), padding=(1, 1), bias=False)\n",
       "      (bn2): BatchNorm2d(64, eps=1e-05, momentum=0.1, affine=True, track_running_stats=True)\n",
       "      (conv3): Conv2d(64, 256, kernel_size=(1, 1), stride=(1, 1), bias=False)\n",
       "      (bn3): BatchNorm2d(256, eps=1e-05, momentum=0.1, affine=True, track_running_stats=True)\n",
       "      (relu): ReLU(inplace=True)\n",
       "    )\n",
       "  )\n",
       "  (layer2): Sequential(\n",
       "    (0): Bottleneck(\n",
       "      (conv1): Conv2d(256, 128, kernel_size=(1, 1), stride=(1, 1), bias=False)\n",
       "      (bn1): BatchNorm2d(128, eps=1e-05, momentum=0.1, affine=True, track_running_stats=True)\n",
       "      (conv2): Conv2d(128, 128, kernel_size=(3, 3), stride=(2, 2), padding=(1, 1), bias=False)\n",
       "      (bn2): BatchNorm2d(128, eps=1e-05, momentum=0.1, affine=True, track_running_stats=True)\n",
       "      (conv3): Conv2d(128, 512, kernel_size=(1, 1), stride=(1, 1), bias=False)\n",
       "      (bn3): BatchNorm2d(512, eps=1e-05, momentum=0.1, affine=True, track_running_stats=True)\n",
       "      (relu): ReLU(inplace=True)\n",
       "      (downsample): Sequential(\n",
       "        (0): Conv2d(256, 512, kernel_size=(1, 1), stride=(2, 2), bias=False)\n",
       "        (1): BatchNorm2d(512, eps=1e-05, momentum=0.1, affine=True, track_running_stats=True)\n",
       "      )\n",
       "    )\n",
       "    (1): Bottleneck(\n",
       "      (conv1): Conv2d(512, 128, kernel_size=(1, 1), stride=(1, 1), bias=False)\n",
       "      (bn1): BatchNorm2d(128, eps=1e-05, momentum=0.1, affine=True, track_running_stats=True)\n",
       "      (conv2): Conv2d(128, 128, kernel_size=(3, 3), stride=(1, 1), padding=(1, 1), bias=False)\n",
       "      (bn2): BatchNorm2d(128, eps=1e-05, momentum=0.1, affine=True, track_running_stats=True)\n",
       "      (conv3): Conv2d(128, 512, kernel_size=(1, 1), stride=(1, 1), bias=False)\n",
       "      (bn3): BatchNorm2d(512, eps=1e-05, momentum=0.1, affine=True, track_running_stats=True)\n",
       "      (relu): ReLU(inplace=True)\n",
       "    )\n",
       "    (2): Bottleneck(\n",
       "      (conv1): Conv2d(512, 128, kernel_size=(1, 1), stride=(1, 1), bias=False)\n",
       "      (bn1): BatchNorm2d(128, eps=1e-05, momentum=0.1, affine=True, track_running_stats=True)\n",
       "      (conv2): Conv2d(128, 128, kernel_size=(3, 3), stride=(1, 1), padding=(1, 1), bias=False)\n",
       "      (bn2): BatchNorm2d(128, eps=1e-05, momentum=0.1, affine=True, track_running_stats=True)\n",
       "      (conv3): Conv2d(128, 512, kernel_size=(1, 1), stride=(1, 1), bias=False)\n",
       "      (bn3): BatchNorm2d(512, eps=1e-05, momentum=0.1, affine=True, track_running_stats=True)\n",
       "      (relu): ReLU(inplace=True)\n",
       "    )\n",
       "    (3): Bottleneck(\n",
       "      (conv1): Conv2d(512, 128, kernel_size=(1, 1), stride=(1, 1), bias=False)\n",
       "      (bn1): BatchNorm2d(128, eps=1e-05, momentum=0.1, affine=True, track_running_stats=True)\n",
       "      (conv2): Conv2d(128, 128, kernel_size=(3, 3), stride=(1, 1), padding=(1, 1), bias=False)\n",
       "      (bn2): BatchNorm2d(128, eps=1e-05, momentum=0.1, affine=True, track_running_stats=True)\n",
       "      (conv3): Conv2d(128, 512, kernel_size=(1, 1), stride=(1, 1), bias=False)\n",
       "      (bn3): BatchNorm2d(512, eps=1e-05, momentum=0.1, affine=True, track_running_stats=True)\n",
       "      (relu): ReLU(inplace=True)\n",
       "    )\n",
       "  )\n",
       "  (layer3): Sequential(\n",
       "    (0): Bottleneck(\n",
       "      (conv1): Conv2d(512, 256, kernel_size=(1, 1), stride=(1, 1), bias=False)\n",
       "      (bn1): BatchNorm2d(256, eps=1e-05, momentum=0.1, affine=True, track_running_stats=True)\n",
       "      (conv2): Conv2d(256, 256, kernel_size=(3, 3), stride=(2, 2), padding=(1, 1), bias=False)\n",
       "      (bn2): BatchNorm2d(256, eps=1e-05, momentum=0.1, affine=True, track_running_stats=True)\n",
       "      (conv3): Conv2d(256, 1024, kernel_size=(1, 1), stride=(1, 1), bias=False)\n",
       "      (bn3): BatchNorm2d(1024, eps=1e-05, momentum=0.1, affine=True, track_running_stats=True)\n",
       "      (relu): ReLU(inplace=True)\n",
       "      (downsample): Sequential(\n",
       "        (0): Conv2d(512, 1024, kernel_size=(1, 1), stride=(2, 2), bias=False)\n",
       "        (1): BatchNorm2d(1024, eps=1e-05, momentum=0.1, affine=True, track_running_stats=True)\n",
       "      )\n",
       "    )\n",
       "    (1): Bottleneck(\n",
       "      (conv1): Conv2d(1024, 256, kernel_size=(1, 1), stride=(1, 1), bias=False)\n",
       "      (bn1): BatchNorm2d(256, eps=1e-05, momentum=0.1, affine=True, track_running_stats=True)\n",
       "      (conv2): Conv2d(256, 256, kernel_size=(3, 3), stride=(1, 1), padding=(1, 1), bias=False)\n",
       "      (bn2): BatchNorm2d(256, eps=1e-05, momentum=0.1, affine=True, track_running_stats=True)\n",
       "      (conv3): Conv2d(256, 1024, kernel_size=(1, 1), stride=(1, 1), bias=False)\n",
       "      (bn3): BatchNorm2d(1024, eps=1e-05, momentum=0.1, affine=True, track_running_stats=True)\n",
       "      (relu): ReLU(inplace=True)\n",
       "    )\n",
       "    (2): Bottleneck(\n",
       "      (conv1): Conv2d(1024, 256, kernel_size=(1, 1), stride=(1, 1), bias=False)\n",
       "      (bn1): BatchNorm2d(256, eps=1e-05, momentum=0.1, affine=True, track_running_stats=True)\n",
       "      (conv2): Conv2d(256, 256, kernel_size=(3, 3), stride=(1, 1), padding=(1, 1), bias=False)\n",
       "      (bn2): BatchNorm2d(256, eps=1e-05, momentum=0.1, affine=True, track_running_stats=True)\n",
       "      (conv3): Conv2d(256, 1024, kernel_size=(1, 1), stride=(1, 1), bias=False)\n",
       "      (bn3): BatchNorm2d(1024, eps=1e-05, momentum=0.1, affine=True, track_running_stats=True)\n",
       "      (relu): ReLU(inplace=True)\n",
       "    )\n",
       "    (3): Bottleneck(\n",
       "      (conv1): Conv2d(1024, 256, kernel_size=(1, 1), stride=(1, 1), bias=False)\n",
       "      (bn1): BatchNorm2d(256, eps=1e-05, momentum=0.1, affine=True, track_running_stats=True)\n",
       "      (conv2): Conv2d(256, 256, kernel_size=(3, 3), stride=(1, 1), padding=(1, 1), bias=False)\n",
       "      (bn2): BatchNorm2d(256, eps=1e-05, momentum=0.1, affine=True, track_running_stats=True)\n",
       "      (conv3): Conv2d(256, 1024, kernel_size=(1, 1), stride=(1, 1), bias=False)\n",
       "      (bn3): BatchNorm2d(1024, eps=1e-05, momentum=0.1, affine=True, track_running_stats=True)\n",
       "      (relu): ReLU(inplace=True)\n",
       "    )\n",
       "    (4): Bottleneck(\n",
       "      (conv1): Conv2d(1024, 256, kernel_size=(1, 1), stride=(1, 1), bias=False)\n",
       "      (bn1): BatchNorm2d(256, eps=1e-05, momentum=0.1, affine=True, track_running_stats=True)\n",
       "      (conv2): Conv2d(256, 256, kernel_size=(3, 3), stride=(1, 1), padding=(1, 1), bias=False)\n",
       "      (bn2): BatchNorm2d(256, eps=1e-05, momentum=0.1, affine=True, track_running_stats=True)\n",
       "      (conv3): Conv2d(256, 1024, kernel_size=(1, 1), stride=(1, 1), bias=False)\n",
       "      (bn3): BatchNorm2d(1024, eps=1e-05, momentum=0.1, affine=True, track_running_stats=True)\n",
       "      (relu): ReLU(inplace=True)\n",
       "    )\n",
       "    (5): Bottleneck(\n",
       "      (conv1): Conv2d(1024, 256, kernel_size=(1, 1), stride=(1, 1), bias=False)\n",
       "      (bn1): BatchNorm2d(256, eps=1e-05, momentum=0.1, affine=True, track_running_stats=True)\n",
       "      (conv2): Conv2d(256, 256, kernel_size=(3, 3), stride=(1, 1), padding=(1, 1), bias=False)\n",
       "      (bn2): BatchNorm2d(256, eps=1e-05, momentum=0.1, affine=True, track_running_stats=True)\n",
       "      (conv3): Conv2d(256, 1024, kernel_size=(1, 1), stride=(1, 1), bias=False)\n",
       "      (bn3): BatchNorm2d(1024, eps=1e-05, momentum=0.1, affine=True, track_running_stats=True)\n",
       "      (relu): ReLU(inplace=True)\n",
       "    )\n",
       "  )\n",
       "  (layer4): Sequential(\n",
       "    (0): Bottleneck(\n",
       "      (conv1): Conv2d(1024, 512, kernel_size=(1, 1), stride=(1, 1), bias=False)\n",
       "      (bn1): BatchNorm2d(512, eps=1e-05, momentum=0.1, affine=True, track_running_stats=True)\n",
       "      (conv2): Conv2d(512, 512, kernel_size=(3, 3), stride=(2, 2), padding=(1, 1), bias=False)\n",
       "      (bn2): BatchNorm2d(512, eps=1e-05, momentum=0.1, affine=True, track_running_stats=True)\n",
       "      (conv3): Conv2d(512, 2048, kernel_size=(1, 1), stride=(1, 1), bias=False)\n",
       "      (bn3): BatchNorm2d(2048, eps=1e-05, momentum=0.1, affine=True, track_running_stats=True)\n",
       "      (relu): ReLU(inplace=True)\n",
       "      (downsample): Sequential(\n",
       "        (0): Conv2d(1024, 2048, kernel_size=(1, 1), stride=(2, 2), bias=False)\n",
       "        (1): BatchNorm2d(2048, eps=1e-05, momentum=0.1, affine=True, track_running_stats=True)\n",
       "      )\n",
       "    )\n",
       "    (1): Bottleneck(\n",
       "      (conv1): Conv2d(2048, 512, kernel_size=(1, 1), stride=(1, 1), bias=False)\n",
       "      (bn1): BatchNorm2d(512, eps=1e-05, momentum=0.1, affine=True, track_running_stats=True)\n",
       "      (conv2): Conv2d(512, 512, kernel_size=(3, 3), stride=(1, 1), padding=(1, 1), bias=False)\n",
       "      (bn2): BatchNorm2d(512, eps=1e-05, momentum=0.1, affine=True, track_running_stats=True)\n",
       "      (conv3): Conv2d(512, 2048, kernel_size=(1, 1), stride=(1, 1), bias=False)\n",
       "      (bn3): BatchNorm2d(2048, eps=1e-05, momentum=0.1, affine=True, track_running_stats=True)\n",
       "      (relu): ReLU(inplace=True)\n",
       "    )\n",
       "    (2): Bottleneck(\n",
       "      (conv1): Conv2d(2048, 512, kernel_size=(1, 1), stride=(1, 1), bias=False)\n",
       "      (bn1): BatchNorm2d(512, eps=1e-05, momentum=0.1, affine=True, track_running_stats=True)\n",
       "      (conv2): Conv2d(512, 512, kernel_size=(3, 3), stride=(1, 1), padding=(1, 1), bias=False)\n",
       "      (bn2): BatchNorm2d(512, eps=1e-05, momentum=0.1, affine=True, track_running_stats=True)\n",
       "      (conv3): Conv2d(512, 2048, kernel_size=(1, 1), stride=(1, 1), bias=False)\n",
       "      (bn3): BatchNorm2d(2048, eps=1e-05, momentum=0.1, affine=True, track_running_stats=True)\n",
       "      (relu): ReLU(inplace=True)\n",
       "    )\n",
       "  )\n",
       "  (avgpool): AdaptiveAvgPool2d(output_size=(1, 1))\n",
       "  (fc): Identity()\n",
       ")"
      ]
     },
     "execution_count": 131,
     "metadata": {},
     "output_type": "execute_result"
    }
   ],
   "source": [
    "simclr_model.encoder"
   ]
  },
  {
   "cell_type": "code",
   "execution_count": 132,
   "id": "344f7f1f",
   "metadata": {},
   "outputs": [],
   "source": [
    "LABELS = torch.cat([torch.arange(BATCH_SIZE) for i in range(2)], dim=0)\n",
    "LABELS = (LABELS.unsqueeze(0) == LABELS.unsqueeze(1)).float() # Creates a one-hot with broadcasting\n",
    "LABELS = LABELS.to(DEVICE) #128,128\n",
    "\n",
    "# contrastive loss\n",
    "def cont_loss(features, temp):\n",
    "    \"\"\"\n",
    "    The NTxent Loss.\n",
    "    \n",
    "    Args:\n",
    "        z1: The projection of the first branch\n",
    "        z2: The projeciton of the second branch\n",
    "    \n",
    "    Returns:\n",
    "        the NTxent loss\n",
    "    \"\"\"\n",
    "    similarity_matrix = torch.matmul(features, features.T) # 128, 128\n",
    "    # discard the main diagonal from both: labels and similarities matrix\n",
    "    mask = torch.eye(LABELS.shape[0], dtype=torch.bool).to(DEVICE)\n",
    "    # ~mask is the negative of the mask\n",
    "    # the view is required to bring the matrix back to shape\n",
    "    labels = LABELS[~mask].view(LABELS.shape[0], -1) # 128, 127\n",
    "    similarity_matrix = similarity_matrix[~mask].view(similarity_matrix.shape[0], -1) # 128, 127\n",
    "\n",
    "    # select and combine multiple positives\n",
    "    positives = similarity_matrix[labels.bool()].view(labels.shape[0], -1) # 128, 1\n",
    "\n",
    "    # select only the negatives\n",
    "    negatives = similarity_matrix[~labels.bool()].view(similarity_matrix.shape[0], -1) # 128, 126\n",
    "\n",
    "    logits = torch.cat([positives, negatives], dim=1) # 128, 127\n",
    "    labels = torch.zeros(logits.shape[0], dtype=torch.long).to(DEVICE)\n",
    "\n",
    "    logits = logits / temp\n",
    "    return logits, labels"
   ]
  },
  {
   "cell_type": "code",
   "execution_count": 133,
   "id": "624511c5",
   "metadata": {},
   "outputs": [
    {
     "data": {
      "text/plain": [
       "tensor([  0,   1,   2,   3,   4,   5,   6,   7,   8,   9,  10,  11,  12,  13,\n",
       "         14,  15,  16,  17,  18,  19,  20,  21,  22,  23,  24,  25,  26,  27,\n",
       "         28,  29,  30,  31,  32,  33,  34,  35,  36,  37,  38,  39,  40,  41,\n",
       "         42,  43,  44,  45,  46,  47,  48,  49,  50,  51,  52,  53,  54,  55,\n",
       "         56,  57,  58,  59,  60,  61,  62,  63,  64,  65,  66,  67,  68,  69,\n",
       "         70,  71,  72,  73,  74,  75,  76,  77,  78,  79,  80,  81,  82,  83,\n",
       "         84,  85,  86,  87,  88,  89,  90,  91,  92,  93,  94,  95,  96,  97,\n",
       "         98,  99, 100, 101, 102, 103, 104, 105, 106, 107, 108, 109, 110, 111,\n",
       "        112, 113, 114, 115, 116, 117, 118, 119, 120, 121, 122, 123, 124, 125,\n",
       "        126, 127,   0,   1,   2,   3,   4,   5,   6,   7,   8,   9,  10,  11,\n",
       "         12,  13,  14,  15,  16,  17,  18,  19,  20,  21,  22,  23,  24,  25,\n",
       "         26,  27,  28,  29,  30,  31,  32,  33,  34,  35,  36,  37,  38,  39,\n",
       "         40,  41,  42,  43,  44,  45,  46,  47,  48,  49,  50,  51,  52,  53,\n",
       "         54,  55,  56,  57,  58,  59,  60,  61,  62,  63,  64,  65,  66,  67,\n",
       "         68,  69,  70,  71,  72,  73,  74,  75,  76,  77,  78,  79,  80,  81,\n",
       "         82,  83,  84,  85,  86,  87,  88,  89,  90,  91,  92,  93,  94,  95,\n",
       "         96,  97,  98,  99, 100, 101, 102, 103, 104, 105, 106, 107, 108, 109,\n",
       "        110, 111, 112, 113, 114, 115, 116, 117, 118, 119, 120, 121, 122, 123,\n",
       "        124, 125, 126, 127])"
      ]
     },
     "execution_count": 133,
     "metadata": {},
     "output_type": "execute_result"
    }
   ],
   "source": [
    "LABELS = torch.cat([torch.arange(BATCH_SIZE) for i in range(2)], dim=0)\n",
    "LABELS"
   ]
  },
  {
   "cell_type": "code",
   "execution_count": 134,
   "id": "c86e533d",
   "metadata": {},
   "outputs": [
    {
     "data": {
      "text/plain": [
       "tensor([[1., 0., 0.,  ..., 0., 0., 0.],\n",
       "        [0., 1., 0.,  ..., 0., 0., 0.],\n",
       "        [0., 0., 1.,  ..., 0., 0., 0.],\n",
       "        ...,\n",
       "        [0., 0., 0.,  ..., 1., 0., 0.],\n",
       "        [0., 0., 0.,  ..., 0., 1., 0.],\n",
       "        [0., 0., 0.,  ..., 0., 0., 1.]])"
      ]
     },
     "execution_count": 134,
     "metadata": {},
     "output_type": "execute_result"
    }
   ],
   "source": [
    "LABELS = (LABELS.unsqueeze(0) == LABELS.unsqueeze(1)).float() # Creates a one-hot with broadcasting\n",
    "LABELS"
   ]
  },
  {
   "cell_type": "code",
   "execution_count": 135,
   "id": "1930bba2",
   "metadata": {},
   "outputs": [],
   "source": [
    "root = 'Fold_1_5'"
   ]
  },
  {
   "cell_type": "code",
   "execution_count": 136,
   "id": "c504b52a",
   "metadata": {},
   "outputs": [],
   "source": [
    "\n",
    "import torch\n",
    "from torch import nn\n",
    "from torch.optim.optimizer import Optimizer, required\n",
    "\n",
    "class LARS(Optimizer):\n",
    "    r\"\"\"Extends SGD in PyTorch with LARS scaling from the paper\n",
    "    `Large batch training of Convolutional Networks <https://arxiv.org/pdf/1708.03888.pdf>`_.\n",
    "\n",
    "    Args:\n",
    "        params (iterable): iterable of parameters to optimize or dicts defining\n",
    "            parameter groups\n",
    "        lr (float): learning rate\n",
    "        momentum (float, optional): momentum factor (default: 0)\n",
    "        weight_decay (float, optional): weight decay (L2 penalty) (default: 0)\n",
    "        dampening (float, optional): dampening for momentum (default: 0)\n",
    "        nesterov (bool, optional): enables Nesterov momentum (default: False)\n",
    "        trust_coefficient (float, optional): trust coefficient for computing LR (default: 0.001)\n",
    "        eps (float, optional): eps for division denominator (default: 1e-8)\n",
    "\n",
    "    Example:\n",
    "        >>> model = nn.Linear(10, 1)\n",
    "        >>> optimizer = LARS(model.parameters(), lr=0.1, momentum=0.9)\n",
    "        >>> optimizer.zero_grad()\n",
    "        >>> # loss_fn(model(input), target).backward()\n",
    "        >>> optimizer.step()\n",
    "\n",
    "    .. note::\n",
    "        The application of momentum in the SGD part is modified according to\n",
    "        the PyTorch standards. LARS scaling fits into the equation in the\n",
    "        following fashion.\n",
    "\n",
    "        .. math::\n",
    "            \\begin{aligned}\n",
    "                g_{t+1} & = \\text{lars\\_lr} * (\\beta * p_{t} + g_{t+1}), \\\\\n",
    "                v_{t+1} & = \\mu * v_{t} + g_{t+1}, \\\\\n",
    "                p_{t+1} & = p_{t} - \\text{lr} * v_{t+1},\n",
    "            \\end{aligned}\n",
    "\n",
    "        where :math:`p`, :math:`g`, :math:`v`, :math:`\\mu` and :math:`\\beta` denote the\n",
    "        parameters, gradient, velocity, momentum, and weight decay respectively.\n",
    "        The :math:`lars_lr` is defined by Eq. 6 in the paper.\n",
    "        The Nesterov version is analogously modified.\n",
    "\n",
    "    .. warning::\n",
    "        Parameters with weight decay set to 0 will automatically be excluded from\n",
    "        layer-wise LR scaling. This is to ensure consistency with papers like SimCLR\n",
    "        and BYOL.\n",
    "    \"\"\"\n",
    "\n",
    "    def __init__(\n",
    "        self,\n",
    "        params,\n",
    "        lr=required,\n",
    "        momentum: float = 0,\n",
    "        dampening: float = 0,\n",
    "        weight_decay: float = 0,\n",
    "        nesterov: bool = False,\n",
    "        trust_coefficient: float = 0.001,\n",
    "        eps: float = 1e-8,\n",
    "    ):\n",
    "        if lr is not required and lr < 0.0:\n",
    "            raise ValueError(f\"Invalid learning rate: {lr}\")\n",
    "        if momentum < 0.0:\n",
    "            raise ValueError(f\"Invalid momentum value: {momentum}\")\n",
    "        if weight_decay < 0.0:\n",
    "            raise ValueError(f\"Invalid weight_decay value: {weight_decay}\")\n",
    "\n",
    "        defaults = dict(lr=lr, momentum=momentum, dampening=dampening, weight_decay=weight_decay, nesterov=nesterov)\n",
    "        if nesterov and (momentum <= 0 or dampening != 0):\n",
    "            raise ValueError(\"Nesterov momentum requires a momentum and zero dampening\")\n",
    "\n",
    "        self.eps = eps\n",
    "        self.trust_coefficient = trust_coefficient\n",
    "\n",
    "        super().__init__(params, defaults)\n",
    "\n",
    "    def __setstate__(self, state):\n",
    "        super().__setstate__(state)\n",
    "\n",
    "        for group in self.param_groups:\n",
    "            group.setdefault(\"nesterov\", False)\n",
    "\n",
    "    @torch.no_grad()\n",
    "    def step(self, closure=None):\n",
    "        \"\"\"Performs a single optimization step.\n",
    "\n",
    "        Args:\n",
    "            closure (callable, optional): A closure that reevaluates the model\n",
    "                and returns the loss.\n",
    "        \"\"\"\n",
    "        loss = None\n",
    "        if closure is not None:\n",
    "            with torch.enable_grad():\n",
    "                loss = closure()\n",
    "\n",
    "        # exclude scaling for params with 0 weight decay\n",
    "        for group in self.param_groups:\n",
    "            weight_decay = group[\"weight_decay\"]\n",
    "            momentum = group[\"momentum\"]\n",
    "            dampening = group[\"dampening\"]\n",
    "            nesterov = group[\"nesterov\"]\n",
    "\n",
    "            for p in group[\"params\"]:\n",
    "                if p.grad is None:\n",
    "                    continue\n",
    "\n",
    "                d_p = p.grad\n",
    "                p_norm = torch.norm(p.data)\n",
    "                g_norm = torch.norm(p.grad.data)\n",
    "\n",
    "                # lars scaling + weight decay part\n",
    "                if weight_decay != 0:\n",
    "                    if p_norm != 0 and g_norm != 0:\n",
    "                        lars_lr = p_norm / (g_norm + p_norm * weight_decay + self.eps)\n",
    "                        lars_lr *= self.trust_coefficient\n",
    "\n",
    "                        d_p = d_p.add(p, alpha=weight_decay)\n",
    "                        d_p *= lars_lr\n",
    "\n",
    "                # sgd part\n",
    "                if momentum != 0:\n",
    "                    param_state = self.state[p]\n",
    "                    if \"momentum_buffer\" not in param_state:\n",
    "                        buf = param_state[\"momentum_buffer\"] = torch.clone(d_p).detach()\n",
    "                    else:\n",
    "                        buf = param_state[\"momentum_buffer\"]\n",
    "                        buf.mul_(momentum).add_(d_p, alpha=1 - dampening)\n",
    "                    if nesterov:\n",
    "                        d_p = d_p.add(buf, alpha=momentum)\n",
    "                    else:\n",
    "                        d_p = buf\n",
    "\n",
    "                p.add_(d_p, alpha=-group[\"lr\"])\n",
    "\n",
    "        return loss\n"
   ]
  },
  {
   "cell_type": "code",
   "execution_count": 137,
   "id": "9a11be0a",
   "metadata": {},
   "outputs": [
    {
     "name": "stdout",
     "output_type": "stream",
     "text": [
      "0.848528137423857\n",
      "Adjusting learning rate of group 0 to 8.4853e-01.\n"
     ]
    }
   ],
   "source": [
    "backbone = torchvision.models.resnet50(pretrained = True)\n",
    "backbone.fc = Identity()\n",
    "# lr = 0.05*(BATCH_SIZE)/256\n",
    "lr = 0.075*(BATCH_SIZE**0.5)\n",
    "print(lr)\n",
    "\n",
    "simclr_model = SimCLRContrastive(backbone).to(DEVICE)                       \n",
    "cont_criterion = nn.CrossEntropyLoss().to(DEVICE) \n",
    "\n",
    "cont_optimizer = LARS(simclr_model.parameters(), lr = lr, weight_decay= (10**-6))     \n",
    "\n",
    "scheduler=torch.optim.lr_scheduler.CosineAnnealingLR(cont_optimizer, T_max=1000, \n",
    "                                                     eta_min=10**-5, verbose=True)\n"
   ]
  },
  {
   "cell_type": "code",
   "execution_count": null,
   "id": "77d27488",
   "metadata": {},
   "outputs": [],
   "source": []
  },
  {
   "cell_type": "code",
   "execution_count": 138,
   "id": "7d3b2355",
   "metadata": {},
   "outputs": [
    {
     "data": {
      "text/plain": [
       "<All keys matched successfully>"
      ]
     },
     "execution_count": 138,
     "metadata": {},
     "output_type": "execute_result"
    }
   ],
   "source": [
    "checkpoint = torch.load(f'../binary classification/saved_models/SimCLR-1-{root}-Contrastive-epoch-100.pth.tar' )\n",
    "simclr_model.load_state_dict(checkpoint['model'])"
   ]
  },
  {
   "cell_type": "code",
   "execution_count": 139,
   "id": "2760f00e",
   "metadata": {},
   "outputs": [],
   "source": [
    "class SimCLRClassifier(nn.Module):\n",
    "    def __init__(self,backbone):\n",
    "        super().__init__()\n",
    "        self.encoder = backbone\n",
    "        self.linear = nn.Sequential(\n",
    "            nn.Dropout(p = 0.6),\n",
    "            nn.Linear(2048, 512),\n",
    "            nn.ReLU(),\n",
    "            nn.Dropout(p = 0.6),\n",
    "            nn.Linear(512, 8))\n",
    "                           \n",
    "    def forward(self, x):\n",
    "        encoding = self.encoder(x).flatten(start_dim=1)\n",
    "        classification = self.linear(encoding)\n",
    "        return classification"
   ]
  },
  {
   "cell_type": "code",
   "execution_count": 140,
   "id": "2fc40b75",
   "metadata": {},
   "outputs": [],
   "source": [
    "classifierModel = SimCLRClassifier(backbone).to(DEVICE)"
   ]
  },
  {
   "cell_type": "code",
   "execution_count": 141,
   "id": "e7fa8fe3",
   "metadata": {},
   "outputs": [],
   "source": [
    "# warm up"
   ]
  },
  {
   "cell_type": "code",
   "execution_count": 142,
   "id": "7e7bb09a",
   "metadata": {},
   "outputs": [],
   "source": [
    "for param in classifierModel.encoder.parameters():\n",
    "    param.requires_grad = False"
   ]
  },
  {
   "cell_type": "code",
   "execution_count": 143,
   "id": "ce373f7e",
   "metadata": {},
   "outputs": [
    {
     "name": "stdout",
     "output_type": "stream",
     "text": [
      "True\n",
      "False\n",
      "False\n",
      "False\n",
      "False\n",
      "False\n",
      "False\n",
      "False\n",
      "False\n",
      "False\n",
      "False\n",
      "False\n",
      "False\n",
      "False\n",
      "False\n",
      "False\n",
      "False\n",
      "False\n",
      "False\n",
      "False\n",
      "False\n",
      "False\n",
      "False\n",
      "False\n",
      "False\n",
      "False\n",
      "False\n",
      "False\n",
      "False\n",
      "False\n",
      "False\n",
      "False\n",
      "False\n",
      "False\n",
      "False\n",
      "False\n",
      "False\n",
      "False\n",
      "False\n",
      "False\n",
      "False\n",
      "False\n",
      "False\n",
      "False\n",
      "False\n",
      "False\n",
      "False\n",
      "False\n",
      "False\n",
      "False\n",
      "False\n",
      "False\n",
      "False\n",
      "False\n",
      "False\n",
      "False\n",
      "False\n",
      "False\n",
      "False\n",
      "False\n",
      "False\n",
      "False\n",
      "False\n",
      "False\n",
      "False\n",
      "False\n",
      "False\n",
      "False\n",
      "False\n",
      "False\n",
      "False\n",
      "False\n",
      "False\n",
      "False\n",
      "False\n",
      "False\n",
      "False\n",
      "False\n",
      "False\n",
      "False\n",
      "False\n",
      "False\n",
      "False\n",
      "False\n",
      "False\n",
      "False\n",
      "False\n",
      "False\n",
      "False\n",
      "False\n",
      "False\n",
      "False\n",
      "False\n",
      "False\n",
      "False\n",
      "False\n",
      "False\n",
      "False\n",
      "False\n",
      "False\n",
      "False\n",
      "False\n",
      "False\n",
      "False\n",
      "False\n",
      "False\n",
      "False\n",
      "False\n",
      "False\n",
      "False\n",
      "False\n",
      "False\n",
      "False\n",
      "False\n",
      "False\n",
      "False\n",
      "False\n",
      "False\n",
      "False\n",
      "False\n",
      "False\n",
      "False\n",
      "False\n",
      "False\n",
      "False\n",
      "False\n",
      "False\n",
      "False\n",
      "False\n",
      "False\n",
      "False\n",
      "False\n",
      "False\n",
      "False\n",
      "False\n",
      "False\n",
      "False\n",
      "False\n",
      "False\n",
      "False\n",
      "False\n",
      "False\n",
      "False\n",
      "False\n",
      "False\n",
      "False\n",
      "False\n",
      "False\n",
      "False\n",
      "False\n",
      "False\n",
      "False\n",
      "False\n",
      "False\n",
      "False\n",
      "False\n",
      "False\n",
      "False\n",
      "False\n",
      "False\n"
     ]
    }
   ],
   "source": [
    "print(classifierModel.linear[1].weight.requires_grad)\n",
    "for param in classifierModel.encoder.parameters():\n",
    "    print(param.requires_grad)"
   ]
  },
  {
   "cell_type": "code",
   "execution_count": 144,
   "id": "afabb6f0",
   "metadata": {},
   "outputs": [],
   "source": [
    "# Building the classification data loader\n",
    "class_train_ds = ClassificationDataset(\n",
    "    file_name= base + 'train_80.csv',\n",
    ")\n",
    "class_valid_ds = ClassificationDataset(\n",
    "    file_name= base + 'val_20.csv',\n",
    ")\n",
    "\n"
   ]
  },
  {
   "cell_type": "code",
   "execution_count": 145,
   "id": "d5e73f86",
   "metadata": {},
   "outputs": [
    {
     "name": "stdout",
     "output_type": "stream",
     "text": [
      "(tensor([[[-2.1179, -2.1179, -2.1179,  ..., -2.1179, -2.1179, -2.1179],\n",
      "         [-2.1179, -2.1179, -2.1179,  ..., -2.1179, -2.1179, -2.1179],\n",
      "         [-2.1179, -2.1179, -2.1179,  ..., -2.1179, -2.1179, -2.1179],\n",
      "         ...,\n",
      "         [-2.1179, -2.1179, -2.1179,  ..., -2.1179, -2.1179, -2.1179],\n",
      "         [-2.1179, -2.1179, -2.1179,  ..., -2.1179, -2.1179, -2.1179],\n",
      "         [-2.1179, -2.1179, -2.1179,  ..., -2.1179, -2.1179, -2.1179]],\n",
      "\n",
      "        [[-2.0357, -2.0357, -2.0357,  ..., -2.0357, -2.0357, -2.0357],\n",
      "         [-2.0357, -2.0357, -2.0357,  ..., -2.0357, -2.0357, -2.0357],\n",
      "         [-2.0357, -2.0357, -2.0357,  ..., -2.0357, -2.0357, -2.0357],\n",
      "         ...,\n",
      "         [-2.0357, -2.0357, -2.0357,  ..., -2.0357, -2.0357, -2.0357],\n",
      "         [-2.0357, -2.0357, -2.0357,  ..., -2.0357, -2.0357, -2.0357],\n",
      "         [-2.0357, -2.0357, -2.0357,  ..., -2.0357, -2.0357, -2.0357]],\n",
      "\n",
      "        [[-1.8044, -1.8044, -1.8044,  ..., -1.8044, -1.8044, -1.8044],\n",
      "         [-1.8044, -1.8044, -1.8044,  ..., -1.8044, -1.8044, -1.8044],\n",
      "         [-1.8044, -1.8044, -1.8044,  ..., -1.8044, -1.8044, -1.8044],\n",
      "         ...,\n",
      "         [-1.8044, -1.8044, -1.8044,  ..., -1.8044, -1.8044, -1.8044],\n",
      "         [-1.8044, -1.8044, -1.8044,  ..., -1.8044, -1.8044, -1.8044],\n",
      "         [-1.8044, -1.8044, -1.8044,  ..., -1.8044, -1.8044, -1.8044]]]), 2)\n"
     ]
    }
   ],
   "source": [
    "print(class_train_ds[16])"
   ]
  },
  {
   "cell_type": "code",
   "execution_count": 146,
   "id": "5756e167",
   "metadata": {},
   "outputs": [],
   "source": [
    "class_train_dl = torch.utils.data.DataLoader(\n",
    "    class_train_ds,\n",
    "    batch_size=BATCH_SIZE,\n",
    "    shuffle=True,\n",
    "    num_workers=os.cpu_count(),\n",
    "    drop_last=True,\n",
    "    pin_memory=True,\n",
    ")\n",
    "    \n",
    "    \n",
    "class_valid_dl = torch.utils.data.DataLoader(\n",
    "    class_valid_ds,\n",
    "    batch_size=BATCH_SIZE,\n",
    "    shuffle=True,\n",
    "    num_workers=os.cpu_count(),\n",
    "    drop_last=True,\n",
    "    pin_memory=True,\n",
    ")"
   ]
  },
  {
   "cell_type": "code",
   "execution_count": 147,
   "id": "223fb0c8",
   "metadata": {},
   "outputs": [
    {
     "name": "stdout",
     "output_type": "stream",
     "text": [
      "0.848528137423857\n",
      "Adjusting learning rate of group 0 to 8.4853e-01.\n"
     ]
    }
   ],
   "source": [
    "# lr = 0.05*(BATCH_SIZE/256)\n",
    "lr = 0.075*(BATCH_SIZE**0.5)\n",
    "print(lr)\n",
    "\n",
    "classification_criterion = nn.CrossEntropyLoss().to(DEVICE)\n",
    "classification_optimizer = LARS(classifierModel.parameters(), lr = lr, weight_decay= (10**-6))  \n",
    "\n",
    "class_scheduler= torch.optim.lr_scheduler.CosineAnnealingLR(classification_optimizer, T_max=1000, \n",
    "                                                     eta_min=10**-5, verbose=True)\n"
   ]
  },
  {
   "cell_type": "code",
   "execution_count": 148,
   "id": "8d79977f",
   "metadata": {},
   "outputs": [
    {
     "name": "stderr",
     "output_type": "stream",
     "text": [
      "100%|███████████████████████████████████████████| 49/49 [00:15<00:00,  3.15it/s]\n"
     ]
    },
    {
     "name": "stdout",
     "output_type": "stream",
     "text": [
      "Adjusting learning rate of group 0 to 8.4853e-01.\n",
      "Epoch 1\n",
      "classification training loss: 1.90564\n",
      "classification training accuracy: 0.33801\n",
      "\n"
     ]
    },
    {
     "name": "stderr",
     "output_type": "stream",
     "text": [
      "100%|███████████████████████████████████████████| 12/12 [00:06<00:00,  1.86it/s]\n"
     ]
    },
    {
     "name": "stdout",
     "output_type": "stream",
     "text": [
      "Epoch 1\n",
      "classification validation loss: 1.71578\n",
      "classification validation accuracy: 0.43945\n",
      "\n"
     ]
    },
    {
     "name": "stderr",
     "output_type": "stream",
     "text": [
      "100%|███████████████████████████████████████████| 49/49 [00:15<00:00,  3.12it/s]\n"
     ]
    },
    {
     "name": "stdout",
     "output_type": "stream",
     "text": [
      "Adjusting learning rate of group 0 to 8.4852e-01.\n",
      "Epoch 2\n",
      "classification training loss: 1.75737\n",
      "classification training accuracy: 0.43750\n",
      "\n"
     ]
    },
    {
     "name": "stderr",
     "output_type": "stream",
     "text": [
      "100%|███████████████████████████████████████████| 12/12 [00:06<00:00,  1.88it/s]\n"
     ]
    },
    {
     "name": "stdout",
     "output_type": "stream",
     "text": [
      "Epoch 2\n",
      "classification validation loss: 1.69127\n",
      "classification validation accuracy: 0.43555\n",
      "\n"
     ]
    },
    {
     "name": "stderr",
     "output_type": "stream",
     "text": [
      "100%|███████████████████████████████████████████| 49/49 [00:16<00:00,  3.05it/s]\n"
     ]
    },
    {
     "name": "stdout",
     "output_type": "stream",
     "text": [
      "Adjusting learning rate of group 0 to 8.4851e-01.\n",
      "Epoch 3\n",
      "classification training loss: 1.73575\n",
      "classification training accuracy: 0.43415\n",
      "\n"
     ]
    },
    {
     "name": "stderr",
     "output_type": "stream",
     "text": [
      "100%|███████████████████████████████████████████| 12/12 [00:06<00:00,  1.82it/s]\n"
     ]
    },
    {
     "name": "stdout",
     "output_type": "stream",
     "text": [
      "Epoch 3\n",
      "classification validation loss: 1.65321\n",
      "classification validation accuracy: 0.43685\n",
      "\n"
     ]
    },
    {
     "name": "stderr",
     "output_type": "stream",
     "text": [
      "100%|███████████████████████████████████████████| 49/49 [00:16<00:00,  3.06it/s]\n"
     ]
    },
    {
     "name": "stdout",
     "output_type": "stream",
     "text": [
      "Adjusting learning rate of group 0 to 8.4849e-01.\n",
      "Epoch 4\n",
      "classification training loss: 1.69639\n",
      "classification training accuracy: 0.44276\n",
      "\n"
     ]
    },
    {
     "name": "stderr",
     "output_type": "stream",
     "text": [
      "100%|███████████████████████████████████████████| 12/12 [00:06<00:00,  1.88it/s]\n"
     ]
    },
    {
     "name": "stdout",
     "output_type": "stream",
     "text": [
      "Epoch 4\n",
      "classification validation loss: 1.62776\n",
      "classification validation accuracy: 0.43685\n",
      "\n"
     ]
    },
    {
     "name": "stderr",
     "output_type": "stream",
     "text": [
      "100%|███████████████████████████████████████████| 49/49 [00:15<00:00,  3.08it/s]\n"
     ]
    },
    {
     "name": "stdout",
     "output_type": "stream",
     "text": [
      "Adjusting learning rate of group 0 to 8.4848e-01.\n",
      "Epoch 5\n",
      "classification training loss: 1.67118\n",
      "classification training accuracy: 0.44882\n",
      "\n"
     ]
    },
    {
     "name": "stderr",
     "output_type": "stream",
     "text": [
      "100%|███████████████████████████████████████████| 12/12 [00:06<00:00,  1.87it/s]"
     ]
    },
    {
     "name": "stdout",
     "output_type": "stream",
     "text": [
      "Epoch 5\n",
      "classification validation loss: 1.59385\n",
      "classification validation accuracy: 0.44792\n",
      "\n"
     ]
    },
    {
     "name": "stderr",
     "output_type": "stream",
     "text": [
      "\n"
     ]
    }
   ],
   "source": [
    "from tqdm import tqdm\n",
    "epochs = 5\n",
    "for epoch in range(epochs):\n",
    "    accuracies = list()\n",
    "    class_losses = list()\n",
    "    classifierModel.train()\n",
    "    for class_batch in tqdm(class_train_dl):\n",
    "        x, y = class_batch\n",
    "        x = x.to(DEVICE)\n",
    "        y = y.to(DEVICE)\n",
    "       \n",
    "        logit = classifierModel(x)\n",
    "        classification_loss = classification_criterion(logit, y)\n",
    "        class_losses.append(classification_loss.item())\n",
    "\n",
    "        classifierModel.zero_grad()\n",
    "        classification_loss.backward()\n",
    "        classification_optimizer.step()\n",
    "\n",
    "        accuracies.append(y.eq(logit.detach().argmax(dim =1)).float().mean())\n",
    "    \n",
    "    class_scheduler.step()\n",
    "\n",
    "    print(f'Epoch {epoch + 1}')\n",
    "    print(f'classification training loss: {torch.tensor(class_losses).mean():.5f}')\n",
    "    print(f'classification training accuracy: {torch.tensor(accuracies).mean():.5f}', \n",
    "          end ='\\n\\n')\n",
    "\n",
    "\n",
    "    losses = list()\n",
    "    accuracies = list()\n",
    "    classifierModel.eval()\n",
    "    for batch in tqdm(class_valid_dl):\n",
    "        x, y = batch\n",
    "        x = x.to(DEVICE)\n",
    "        y = y.to(DEVICE)\n",
    "        with torch.no_grad():\n",
    "            logit = classifierModel(x)\n",
    "\n",
    "        loss = classification_criterion(logit, y)\n",
    "\n",
    "        losses.append(loss.item())\n",
    "        accuracies.append(y.eq(logit.detach().argmax(dim =1)).float().mean())\n",
    "\n",
    "    print(f'Epoch {epoch + 1}')\n",
    "    print(f'classification validation loss: {torch.tensor(losses).mean():.5f}')\n",
    "    print(f'classification validation accuracy: {torch.tensor(accuracies).mean():.5f}', \n",
    "          end ='\\n\\n')\n"
   ]
  },
  {
   "cell_type": "code",
   "execution_count": null,
   "id": "a1c94f90",
   "metadata": {},
   "outputs": [],
   "source": []
  },
  {
   "cell_type": "code",
   "execution_count": 149,
   "id": "ea3cc643",
   "metadata": {},
   "outputs": [],
   "source": [
    "for param in classifierModel.encoder.parameters():\n",
    "    param.requires_grad = True"
   ]
  },
  {
   "cell_type": "code",
   "execution_count": 150,
   "id": "b58e702e",
   "metadata": {},
   "outputs": [
    {
     "name": "stdout",
     "output_type": "stream",
     "text": [
      "True\n",
      "True\n",
      "True\n",
      "True\n",
      "True\n",
      "True\n",
      "True\n",
      "True\n",
      "True\n",
      "True\n",
      "True\n",
      "True\n",
      "True\n",
      "True\n",
      "True\n",
      "True\n",
      "True\n",
      "True\n",
      "True\n",
      "True\n",
      "True\n",
      "True\n",
      "True\n",
      "True\n",
      "True\n",
      "True\n",
      "True\n",
      "True\n",
      "True\n",
      "True\n",
      "True\n",
      "True\n",
      "True\n",
      "True\n",
      "True\n",
      "True\n",
      "True\n",
      "True\n",
      "True\n",
      "True\n",
      "True\n",
      "True\n",
      "True\n",
      "True\n",
      "True\n",
      "True\n",
      "True\n",
      "True\n",
      "True\n",
      "True\n",
      "True\n",
      "True\n",
      "True\n",
      "True\n",
      "True\n",
      "True\n",
      "True\n",
      "True\n",
      "True\n",
      "True\n",
      "True\n",
      "True\n",
      "True\n",
      "True\n",
      "True\n",
      "True\n",
      "True\n",
      "True\n",
      "True\n",
      "True\n",
      "True\n",
      "True\n",
      "True\n",
      "True\n",
      "True\n",
      "True\n",
      "True\n",
      "True\n",
      "True\n",
      "True\n",
      "True\n",
      "True\n",
      "True\n",
      "True\n",
      "True\n",
      "True\n",
      "True\n",
      "True\n",
      "True\n",
      "True\n",
      "True\n",
      "True\n",
      "True\n",
      "True\n",
      "True\n",
      "True\n",
      "True\n",
      "True\n",
      "True\n",
      "True\n",
      "True\n",
      "True\n",
      "True\n",
      "True\n",
      "True\n",
      "True\n",
      "True\n",
      "True\n",
      "True\n",
      "True\n",
      "True\n",
      "True\n",
      "True\n",
      "True\n",
      "True\n",
      "True\n",
      "True\n",
      "True\n",
      "True\n",
      "True\n",
      "True\n",
      "True\n",
      "True\n",
      "True\n",
      "True\n",
      "True\n",
      "True\n",
      "True\n",
      "True\n",
      "True\n",
      "True\n",
      "True\n",
      "True\n",
      "True\n",
      "True\n",
      "True\n",
      "True\n",
      "True\n",
      "True\n",
      "True\n",
      "True\n",
      "True\n",
      "True\n",
      "True\n",
      "True\n",
      "True\n",
      "True\n",
      "True\n",
      "True\n",
      "True\n",
      "True\n",
      "True\n",
      "True\n",
      "True\n",
      "True\n",
      "True\n",
      "True\n",
      "True\n",
      "True\n",
      "True\n"
     ]
    }
   ],
   "source": [
    "print(classifierModel.linear[1].weight.requires_grad)\n",
    "for param in classifierModel.encoder.parameters():\n",
    "    print(param.requires_grad)"
   ]
  },
  {
   "cell_type": "code",
   "execution_count": 151,
   "id": "17627271",
   "metadata": {},
   "outputs": [],
   "source": [
    "# differnt augmentions from contrastive traning"
   ]
  },
  {
   "cell_type": "code",
   "execution_count": 152,
   "id": "9641fa5d",
   "metadata": {},
   "outputs": [
    {
     "name": "stderr",
     "output_type": "stream",
     "text": [
      "100%|███████████████████████████████████████████| 49/49 [00:32<00:00,  1.52it/s]\n"
     ]
    },
    {
     "name": "stdout",
     "output_type": "stream",
     "text": [
      "Adjusting learning rate of group 0 to 8.4845e-01.\n",
      "Epoch 1\n",
      "classification training loss: 1.49726\n",
      "classification training accuracy: 0.50542\n",
      "\n"
     ]
    },
    {
     "name": "stderr",
     "output_type": "stream",
     "text": [
      "100%|███████████████████████████████████████████| 12/12 [00:06<00:00,  1.84it/s]\n"
     ]
    },
    {
     "name": "stdout",
     "output_type": "stream",
     "text": [
      "Epoch 1\n",
      "classification validation loss: 1.25328\n",
      "classification validation accuracy: 0.54753\n",
      "\n"
     ]
    },
    {
     "name": "stderr",
     "output_type": "stream",
     "text": [
      "100%|███████████████████████████████████████████| 49/49 [00:32<00:00,  1.53it/s]\n"
     ]
    },
    {
     "name": "stdout",
     "output_type": "stream",
     "text": [
      "Adjusting learning rate of group 0 to 8.4843e-01.\n",
      "Epoch 2\n",
      "classification training loss: 1.27110\n",
      "classification training accuracy: 0.55740\n",
      "\n"
     ]
    },
    {
     "name": "stderr",
     "output_type": "stream",
     "text": [
      "100%|███████████████████████████████████████████| 12/12 [00:06<00:00,  1.82it/s]\n"
     ]
    },
    {
     "name": "stdout",
     "output_type": "stream",
     "text": [
      "Epoch 2\n",
      "classification validation loss: 1.06952\n",
      "classification validation accuracy: 0.61589\n",
      "\n"
     ]
    },
    {
     "name": "stderr",
     "output_type": "stream",
     "text": [
      "100%|███████████████████████████████████████████| 49/49 [00:32<00:00,  1.49it/s]\n"
     ]
    },
    {
     "name": "stdout",
     "output_type": "stream",
     "text": [
      "Adjusting learning rate of group 0 to 8.4839e-01.\n",
      "Epoch 3\n",
      "classification training loss: 1.10467\n",
      "classification training accuracy: 0.61240\n",
      "\n"
     ]
    },
    {
     "name": "stderr",
     "output_type": "stream",
     "text": [
      "100%|███████████████████████████████████████████| 12/12 [00:06<00:00,  1.87it/s]\n"
     ]
    },
    {
     "name": "stdout",
     "output_type": "stream",
     "text": [
      "Epoch 3\n",
      "classification validation loss: 0.91730\n",
      "classification validation accuracy: 0.69076\n",
      "\n"
     ]
    },
    {
     "name": "stderr",
     "output_type": "stream",
     "text": [
      "100%|███████████████████████████████████████████| 49/49 [00:32<00:00,  1.51it/s]\n"
     ]
    },
    {
     "name": "stdout",
     "output_type": "stream",
     "text": [
      "Adjusting learning rate of group 0 to 8.4836e-01.\n",
      "Epoch 4\n",
      "classification training loss: 0.93576\n",
      "classification training accuracy: 0.67522\n",
      "\n"
     ]
    },
    {
     "name": "stderr",
     "output_type": "stream",
     "text": [
      "100%|███████████████████████████████████████████| 12/12 [00:06<00:00,  1.84it/s]\n"
     ]
    },
    {
     "name": "stdout",
     "output_type": "stream",
     "text": [
      "Epoch 4\n",
      "classification validation loss: 0.76556\n",
      "classification validation accuracy: 0.74609\n",
      "\n"
     ]
    },
    {
     "name": "stderr",
     "output_type": "stream",
     "text": [
      "100%|███████████████████████████████████████████| 49/49 [00:32<00:00,  1.49it/s]\n"
     ]
    },
    {
     "name": "stdout",
     "output_type": "stream",
     "text": [
      "Adjusting learning rate of group 0 to 8.4832e-01.\n",
      "Epoch 5\n",
      "classification training loss: 0.81165\n",
      "classification training accuracy: 0.71572\n",
      "\n"
     ]
    },
    {
     "name": "stderr",
     "output_type": "stream",
     "text": [
      "100%|███████████████████████████████████████████| 12/12 [00:06<00:00,  1.85it/s]\n"
     ]
    },
    {
     "name": "stdout",
     "output_type": "stream",
     "text": [
      "Epoch 5\n",
      "classification validation loss: 0.64998\n",
      "classification validation accuracy: 0.76953\n",
      "\n"
     ]
    },
    {
     "name": "stderr",
     "output_type": "stream",
     "text": [
      "100%|███████████████████████████████████████████| 49/49 [00:32<00:00,  1.49it/s]\n"
     ]
    },
    {
     "name": "stdout",
     "output_type": "stream",
     "text": [
      "Adjusting learning rate of group 0 to 8.4827e-01.\n",
      "Epoch 6\n",
      "classification training loss: 0.70839\n",
      "classification training accuracy: 0.75032\n",
      "\n"
     ]
    },
    {
     "name": "stderr",
     "output_type": "stream",
     "text": [
      "100%|███████████████████████████████████████████| 12/12 [00:06<00:00,  1.88it/s]\n"
     ]
    },
    {
     "name": "stdout",
     "output_type": "stream",
     "text": [
      "Epoch 6\n",
      "classification validation loss: 0.57346\n",
      "classification validation accuracy: 0.79753\n",
      "\n"
     ]
    },
    {
     "name": "stderr",
     "output_type": "stream",
     "text": [
      "100%|███████████████████████████████████████████| 49/49 [00:32<00:00,  1.51it/s]\n"
     ]
    },
    {
     "name": "stdout",
     "output_type": "stream",
     "text": [
      "Adjusting learning rate of group 0 to 8.4823e-01.\n",
      "Epoch 7\n",
      "classification training loss: 0.62858\n",
      "classification training accuracy: 0.78013\n",
      "\n"
     ]
    },
    {
     "name": "stderr",
     "output_type": "stream",
     "text": [
      "100%|███████████████████████████████████████████| 12/12 [00:06<00:00,  1.83it/s]\n"
     ]
    },
    {
     "name": "stdout",
     "output_type": "stream",
     "text": [
      "Epoch 7\n",
      "classification validation loss: 0.49918\n",
      "classification validation accuracy: 0.81120\n",
      "\n"
     ]
    },
    {
     "name": "stderr",
     "output_type": "stream",
     "text": [
      "100%|███████████████████████████████████████████| 49/49 [00:33<00:00,  1.48it/s]\n"
     ]
    },
    {
     "name": "stdout",
     "output_type": "stream",
     "text": [
      "Adjusting learning rate of group 0 to 8.4817e-01.\n",
      "Epoch 8\n",
      "classification training loss: 0.56065\n",
      "classification training accuracy: 0.80086\n",
      "\n"
     ]
    },
    {
     "name": "stderr",
     "output_type": "stream",
     "text": [
      "100%|███████████████████████████████████████████| 12/12 [00:06<00:00,  1.81it/s]\n"
     ]
    },
    {
     "name": "stdout",
     "output_type": "stream",
     "text": [
      "Epoch 8\n",
      "classification validation loss: 0.46342\n",
      "classification validation accuracy: 0.82292\n",
      "\n"
     ]
    },
    {
     "name": "stderr",
     "output_type": "stream",
     "text": [
      "100%|███████████████████████████████████████████| 49/49 [00:32<00:00,  1.51it/s]\n"
     ]
    },
    {
     "name": "stdout",
     "output_type": "stream",
     "text": [
      "Adjusting learning rate of group 0 to 8.4812e-01.\n",
      "Epoch 9\n",
      "classification training loss: 0.49356\n",
      "classification training accuracy: 0.82733\n",
      "\n"
     ]
    },
    {
     "name": "stderr",
     "output_type": "stream",
     "text": [
      "100%|███████████████████████████████████████████| 12/12 [00:06<00:00,  1.84it/s]\n"
     ]
    },
    {
     "name": "stdout",
     "output_type": "stream",
     "text": [
      "Epoch 9\n",
      "classification validation loss: 0.43714\n",
      "classification validation accuracy: 0.83464\n",
      "\n"
     ]
    },
    {
     "name": "stderr",
     "output_type": "stream",
     "text": [
      "100%|███████████████████████████████████████████| 49/49 [00:32<00:00,  1.51it/s]\n"
     ]
    },
    {
     "name": "stdout",
     "output_type": "stream",
     "text": [
      "Adjusting learning rate of group 0 to 8.4806e-01.\n",
      "saved checkpoint for epoch 10\n",
      "Epoch 10\n",
      "classification training loss: 0.44406\n",
      "classification training accuracy: 0.84423\n",
      "\n"
     ]
    },
    {
     "name": "stderr",
     "output_type": "stream",
     "text": [
      "100%|███████████████████████████████████████████| 12/12 [00:06<00:00,  1.80it/s]\n"
     ]
    },
    {
     "name": "stdout",
     "output_type": "stream",
     "text": [
      "Epoch 10\n",
      "classification validation loss: 0.39944\n",
      "classification validation accuracy: 0.84766\n",
      "\n"
     ]
    },
    {
     "name": "stderr",
     "output_type": "stream",
     "text": [
      "100%|███████████████████████████████████████████| 49/49 [00:32<00:00,  1.50it/s]\n"
     ]
    },
    {
     "name": "stdout",
     "output_type": "stream",
     "text": [
      "Adjusting learning rate of group 0 to 8.4799e-01.\n",
      "Epoch 11\n",
      "classification training loss: 0.39725\n",
      "classification training accuracy: 0.86320\n",
      "\n"
     ]
    },
    {
     "name": "stderr",
     "output_type": "stream",
     "text": [
      "100%|███████████████████████████████████████████| 12/12 [00:06<00:00,  1.84it/s]\n"
     ]
    },
    {
     "name": "stdout",
     "output_type": "stream",
     "text": [
      "Epoch 11\n",
      "classification validation loss: 0.40120\n",
      "classification validation accuracy: 0.84375\n",
      "\n"
     ]
    },
    {
     "name": "stderr",
     "output_type": "stream",
     "text": [
      "100%|███████████████████████████████████████████| 49/49 [00:32<00:00,  1.49it/s]\n"
     ]
    },
    {
     "name": "stdout",
     "output_type": "stream",
     "text": [
      "Adjusting learning rate of group 0 to 8.4792e-01.\n",
      "Epoch 12\n",
      "classification training loss: 0.35251\n",
      "classification training accuracy: 0.87612\n",
      "\n"
     ]
    },
    {
     "name": "stderr",
     "output_type": "stream",
     "text": [
      "100%|███████████████████████████████████████████| 12/12 [00:06<00:00,  1.83it/s]\n"
     ]
    },
    {
     "name": "stdout",
     "output_type": "stream",
     "text": [
      "Epoch 12\n",
      "classification validation loss: 0.38322\n",
      "classification validation accuracy: 0.85807\n",
      "\n"
     ]
    },
    {
     "name": "stderr",
     "output_type": "stream",
     "text": [
      "100%|███████████████████████████████████████████| 49/49 [00:32<00:00,  1.50it/s]\n"
     ]
    },
    {
     "name": "stdout",
     "output_type": "stream",
     "text": [
      "Adjusting learning rate of group 0 to 8.4785e-01.\n",
      "Epoch 13\n",
      "classification training loss: 0.32956\n",
      "classification training accuracy: 0.88409\n",
      "\n"
     ]
    },
    {
     "name": "stderr",
     "output_type": "stream",
     "text": [
      "100%|███████████████████████████████████████████| 12/12 [00:06<00:00,  1.85it/s]\n"
     ]
    },
    {
     "name": "stdout",
     "output_type": "stream",
     "text": [
      "Epoch 13\n",
      "classification validation loss: 0.31043\n",
      "classification validation accuracy: 0.87630\n",
      "\n"
     ]
    },
    {
     "name": "stderr",
     "output_type": "stream",
     "text": [
      "100%|███████████████████████████████████████████| 49/49 [00:32<00:00,  1.49it/s]\n"
     ]
    },
    {
     "name": "stdout",
     "output_type": "stream",
     "text": [
      "Adjusting learning rate of group 0 to 8.4777e-01.\n",
      "Epoch 14\n",
      "classification training loss: 0.30085\n",
      "classification training accuracy: 0.89573\n",
      "\n"
     ]
    },
    {
     "name": "stderr",
     "output_type": "stream",
     "text": [
      "100%|███████████████████████████████████████████| 12/12 [00:06<00:00,  1.80it/s]\n"
     ]
    },
    {
     "name": "stdout",
     "output_type": "stream",
     "text": [
      "Epoch 14\n",
      "classification validation loss: 0.32086\n",
      "classification validation accuracy: 0.87240\n",
      "\n"
     ]
    },
    {
     "name": "stderr",
     "output_type": "stream",
     "text": [
      "100%|███████████████████████████████████████████| 49/49 [00:32<00:00,  1.50it/s]\n"
     ]
    },
    {
     "name": "stdout",
     "output_type": "stream",
     "text": [
      "Adjusting learning rate of group 0 to 8.4769e-01.\n",
      "Epoch 15\n",
      "classification training loss: 0.27346\n",
      "classification training accuracy: 0.90179\n",
      "\n"
     ]
    },
    {
     "name": "stderr",
     "output_type": "stream",
     "text": [
      "100%|███████████████████████████████████████████| 12/12 [00:06<00:00,  1.83it/s]\n"
     ]
    },
    {
     "name": "stdout",
     "output_type": "stream",
     "text": [
      "Epoch 15\n",
      "classification validation loss: 0.31771\n",
      "classification validation accuracy: 0.88086\n",
      "\n"
     ]
    },
    {
     "name": "stderr",
     "output_type": "stream",
     "text": [
      "100%|███████████████████████████████████████████| 49/49 [00:32<00:00,  1.52it/s]\n"
     ]
    },
    {
     "name": "stdout",
     "output_type": "stream",
     "text": [
      "Adjusting learning rate of group 0 to 8.4761e-01.\n",
      "Epoch 16\n",
      "classification training loss: 0.25199\n",
      "classification training accuracy: 0.90896\n",
      "\n"
     ]
    },
    {
     "name": "stderr",
     "output_type": "stream",
     "text": [
      "100%|███████████████████████████████████████████| 12/12 [00:06<00:00,  1.85it/s]\n"
     ]
    },
    {
     "name": "stdout",
     "output_type": "stream",
     "text": [
      "Epoch 16\n",
      "classification validation loss: 0.29484\n",
      "classification validation accuracy: 0.88542\n",
      "\n"
     ]
    },
    {
     "name": "stderr",
     "output_type": "stream",
     "text": [
      "100%|███████████████████████████████████████████| 49/49 [00:32<00:00,  1.50it/s]\n"
     ]
    },
    {
     "name": "stdout",
     "output_type": "stream",
     "text": [
      "Adjusting learning rate of group 0 to 8.4752e-01.\n",
      "Epoch 17\n",
      "classification training loss: 0.23105\n",
      "classification training accuracy: 0.91821\n",
      "\n"
     ]
    },
    {
     "name": "stderr",
     "output_type": "stream",
     "text": [
      "100%|███████████████████████████████████████████| 12/12 [00:06<00:00,  1.84it/s]\n"
     ]
    },
    {
     "name": "stdout",
     "output_type": "stream",
     "text": [
      "Epoch 17\n",
      "classification validation loss: 0.30746\n",
      "classification validation accuracy: 0.88216\n",
      "\n"
     ]
    },
    {
     "name": "stderr",
     "output_type": "stream",
     "text": [
      "100%|███████████████████████████████████████████| 49/49 [00:32<00:00,  1.50it/s]\n"
     ]
    },
    {
     "name": "stdout",
     "output_type": "stream",
     "text": [
      "Adjusting learning rate of group 0 to 8.4742e-01.\n",
      "Epoch 18\n",
      "classification training loss: 0.21911\n",
      "classification training accuracy: 0.92427\n",
      "\n"
     ]
    },
    {
     "name": "stderr",
     "output_type": "stream",
     "text": [
      "100%|███████████████████████████████████████████| 12/12 [00:06<00:00,  1.87it/s]\n"
     ]
    },
    {
     "name": "stdout",
     "output_type": "stream",
     "text": [
      "Epoch 18\n",
      "classification validation loss: 0.28860\n",
      "classification validation accuracy: 0.89909\n",
      "\n"
     ]
    },
    {
     "name": "stderr",
     "output_type": "stream",
     "text": [
      "100%|███████████████████████████████████████████| 49/49 [00:32<00:00,  1.50it/s]\n"
     ]
    },
    {
     "name": "stdout",
     "output_type": "stream",
     "text": [
      "Adjusting learning rate of group 0 to 8.4732e-01.\n",
      "Epoch 19\n",
      "classification training loss: 0.21999\n",
      "classification training accuracy: 0.92203\n",
      "\n"
     ]
    },
    {
     "name": "stderr",
     "output_type": "stream",
     "text": [
      "100%|███████████████████████████████████████████| 12/12 [00:06<00:00,  1.82it/s]\n"
     ]
    },
    {
     "name": "stdout",
     "output_type": "stream",
     "text": [
      "Epoch 19\n",
      "classification validation loss: 0.30081\n",
      "classification validation accuracy: 0.89062\n",
      "\n"
     ]
    },
    {
     "name": "stderr",
     "output_type": "stream",
     "text": [
      "100%|███████████████████████████████████████████| 49/49 [00:32<00:00,  1.50it/s]\n"
     ]
    },
    {
     "name": "stdout",
     "output_type": "stream",
     "text": [
      "Adjusting learning rate of group 0 to 8.4722e-01.\n",
      "saved checkpoint for epoch 20\n",
      "Epoch 20\n",
      "classification training loss: 0.18157\n",
      "classification training accuracy: 0.93591\n",
      "\n"
     ]
    },
    {
     "name": "stderr",
     "output_type": "stream",
     "text": [
      "100%|███████████████████████████████████████████| 12/12 [00:06<00:00,  1.88it/s]\n"
     ]
    },
    {
     "name": "stdout",
     "output_type": "stream",
     "text": [
      "Epoch 20\n",
      "classification validation loss: 0.28622\n",
      "classification validation accuracy: 0.89714\n",
      "\n"
     ]
    },
    {
     "name": "stderr",
     "output_type": "stream",
     "text": [
      "100%|███████████████████████████████████████████| 49/49 [00:32<00:00,  1.50it/s]\n"
     ]
    },
    {
     "name": "stdout",
     "output_type": "stream",
     "text": [
      "Adjusting learning rate of group 0 to 8.4711e-01.\n",
      "Epoch 21\n",
      "classification training loss: 0.18307\n",
      "classification training accuracy: 0.93128\n",
      "\n"
     ]
    },
    {
     "name": "stderr",
     "output_type": "stream",
     "text": [
      "100%|███████████████████████████████████████████| 12/12 [00:06<00:00,  1.84it/s]\n"
     ]
    },
    {
     "name": "stdout",
     "output_type": "stream",
     "text": [
      "Epoch 21\n",
      "classification validation loss: 0.27984\n",
      "classification validation accuracy: 0.89453\n",
      "\n"
     ]
    },
    {
     "name": "stderr",
     "output_type": "stream",
     "text": [
      "100%|███████████████████████████████████████████| 49/49 [00:33<00:00,  1.45it/s]\n"
     ]
    },
    {
     "name": "stdout",
     "output_type": "stream",
     "text": [
      "Adjusting learning rate of group 0 to 8.4700e-01.\n",
      "Epoch 22\n",
      "classification training loss: 0.15829\n",
      "classification training accuracy: 0.94005\n",
      "\n"
     ]
    },
    {
     "name": "stderr",
     "output_type": "stream",
     "text": [
      "100%|███████████████████████████████████████████| 12/12 [00:06<00:00,  1.82it/s]\n"
     ]
    },
    {
     "name": "stdout",
     "output_type": "stream",
     "text": [
      "Epoch 22\n",
      "classification validation loss: 0.29896\n",
      "classification validation accuracy: 0.88997\n",
      "\n"
     ]
    },
    {
     "name": "stderr",
     "output_type": "stream",
     "text": [
      "100%|███████████████████████████████████████████| 49/49 [00:32<00:00,  1.49it/s]\n"
     ]
    },
    {
     "name": "stdout",
     "output_type": "stream",
     "text": [
      "Adjusting learning rate of group 0 to 8.4689e-01.\n",
      "Epoch 23\n",
      "classification training loss: 0.15855\n",
      "classification training accuracy: 0.94276\n",
      "\n"
     ]
    },
    {
     "name": "stderr",
     "output_type": "stream",
     "text": [
      "100%|███████████████████████████████████████████| 12/12 [00:06<00:00,  1.78it/s]\n"
     ]
    },
    {
     "name": "stdout",
     "output_type": "stream",
     "text": [
      "Epoch 23\n",
      "classification validation loss: 0.25373\n",
      "classification validation accuracy: 0.90495\n",
      "\n"
     ]
    },
    {
     "name": "stderr",
     "output_type": "stream",
     "text": [
      "100%|███████████████████████████████████████████| 49/49 [00:34<00:00,  1.44it/s]\n"
     ]
    },
    {
     "name": "stdout",
     "output_type": "stream",
     "text": [
      "Adjusting learning rate of group 0 to 8.4677e-01.\n",
      "Epoch 24\n",
      "classification training loss: 0.14840\n",
      "classification training accuracy: 0.94531\n",
      "\n"
     ]
    },
    {
     "name": "stderr",
     "output_type": "stream",
     "text": [
      "100%|███████████████████████████████████████████| 12/12 [00:06<00:00,  1.74it/s]\n"
     ]
    },
    {
     "name": "stdout",
     "output_type": "stream",
     "text": [
      "Epoch 24\n",
      "classification validation loss: 0.31593\n",
      "classification validation accuracy: 0.88346\n",
      "\n"
     ]
    },
    {
     "name": "stderr",
     "output_type": "stream",
     "text": [
      "100%|███████████████████████████████████████████| 49/49 [00:33<00:00,  1.48it/s]\n"
     ]
    },
    {
     "name": "stdout",
     "output_type": "stream",
     "text": [
      "Adjusting learning rate of group 0 to 8.4665e-01.\n",
      "Epoch 25\n",
      "classification training loss: 0.15201\n",
      "classification training accuracy: 0.94165\n",
      "\n"
     ]
    },
    {
     "name": "stderr",
     "output_type": "stream",
     "text": [
      "100%|███████████████████████████████████████████| 12/12 [00:06<00:00,  1.88it/s]\n"
     ]
    },
    {
     "name": "stdout",
     "output_type": "stream",
     "text": [
      "Epoch 25\n",
      "classification validation loss: 0.26018\n",
      "classification validation accuracy: 0.90104\n",
      "\n"
     ]
    },
    {
     "name": "stderr",
     "output_type": "stream",
     "text": [
      "100%|███████████████████████████████████████████| 49/49 [00:33<00:00,  1.47it/s]\n"
     ]
    },
    {
     "name": "stdout",
     "output_type": "stream",
     "text": [
      "Adjusting learning rate of group 0 to 8.4652e-01.\n",
      "Epoch 26\n",
      "classification training loss: 0.12741\n",
      "classification training accuracy: 0.95504\n",
      "\n"
     ]
    },
    {
     "name": "stderr",
     "output_type": "stream",
     "text": [
      "100%|███████████████████████████████████████████| 12/12 [00:06<00:00,  1.81it/s]\n"
     ]
    },
    {
     "name": "stdout",
     "output_type": "stream",
     "text": [
      "Epoch 26\n",
      "classification validation loss: 0.26559\n",
      "classification validation accuracy: 0.90365\n",
      "\n"
     ]
    },
    {
     "name": "stderr",
     "output_type": "stream",
     "text": [
      "100%|███████████████████████████████████████████| 49/49 [00:33<00:00,  1.47it/s]\n"
     ]
    },
    {
     "name": "stdout",
     "output_type": "stream",
     "text": [
      "Adjusting learning rate of group 0 to 8.4639e-01.\n",
      "Epoch 27\n",
      "classification training loss: 0.13286\n",
      "classification training accuracy: 0.95057\n",
      "\n"
     ]
    },
    {
     "name": "stderr",
     "output_type": "stream",
     "text": [
      "100%|███████████████████████████████████████████| 12/12 [00:06<00:00,  1.79it/s]\n"
     ]
    },
    {
     "name": "stdout",
     "output_type": "stream",
     "text": [
      "Epoch 27\n",
      "classification validation loss: 0.29609\n",
      "classification validation accuracy: 0.89323\n",
      "\n"
     ]
    },
    {
     "name": "stderr",
     "output_type": "stream",
     "text": [
      "100%|███████████████████████████████████████████| 49/49 [00:32<00:00,  1.50it/s]\n"
     ]
    },
    {
     "name": "stdout",
     "output_type": "stream",
     "text": [
      "Adjusting learning rate of group 0 to 8.4625e-01.\n",
      "Epoch 28\n",
      "classification training loss: 0.12388\n",
      "classification training accuracy: 0.95472\n",
      "\n"
     ]
    },
    {
     "name": "stderr",
     "output_type": "stream",
     "text": [
      "100%|███████████████████████████████████████████| 12/12 [00:06<00:00,  1.91it/s]\n"
     ]
    },
    {
     "name": "stdout",
     "output_type": "stream",
     "text": [
      "Epoch 28\n",
      "classification validation loss: 0.25555\n",
      "classification validation accuracy: 0.90625\n",
      "\n"
     ]
    },
    {
     "name": "stderr",
     "output_type": "stream",
     "text": [
      "100%|███████████████████████████████████████████| 49/49 [00:32<00:00,  1.51it/s]\n"
     ]
    },
    {
     "name": "stdout",
     "output_type": "stream",
     "text": [
      "Adjusting learning rate of group 0 to 8.4611e-01.\n",
      "Epoch 29\n",
      "classification training loss: 0.11459\n",
      "classification training accuracy: 0.95775\n",
      "\n"
     ]
    },
    {
     "name": "stderr",
     "output_type": "stream",
     "text": [
      "100%|███████████████████████████████████████████| 12/12 [00:06<00:00,  1.82it/s]\n"
     ]
    },
    {
     "name": "stdout",
     "output_type": "stream",
     "text": [
      "Epoch 29\n",
      "classification validation loss: 0.26348\n",
      "classification validation accuracy: 0.90560\n",
      "\n"
     ]
    },
    {
     "name": "stderr",
     "output_type": "stream",
     "text": [
      "100%|███████████████████████████████████████████| 49/49 [00:32<00:00,  1.49it/s]\n"
     ]
    },
    {
     "name": "stdout",
     "output_type": "stream",
     "text": [
      "Adjusting learning rate of group 0 to 8.4597e-01.\n",
      "saved checkpoint for epoch 30\n",
      "Epoch 30\n",
      "classification training loss: 0.10725\n",
      "classification training accuracy: 0.95886\n",
      "\n"
     ]
    },
    {
     "name": "stderr",
     "output_type": "stream",
     "text": [
      "100%|███████████████████████████████████████████| 12/12 [00:06<00:00,  1.87it/s]\n"
     ]
    },
    {
     "name": "stdout",
     "output_type": "stream",
     "text": [
      "Epoch 30\n",
      "classification validation loss: 0.25679\n",
      "classification validation accuracy: 0.90430\n",
      "\n"
     ]
    },
    {
     "name": "stderr",
     "output_type": "stream",
     "text": [
      "100%|███████████████████████████████████████████| 49/49 [00:32<00:00,  1.50it/s]\n"
     ]
    },
    {
     "name": "stdout",
     "output_type": "stream",
     "text": [
      "Adjusting learning rate of group 0 to 8.4582e-01.\n",
      "Epoch 31\n",
      "classification training loss: 0.10540\n",
      "classification training accuracy: 0.95950\n",
      "\n"
     ]
    },
    {
     "name": "stderr",
     "output_type": "stream",
     "text": [
      "100%|███████████████████████████████████████████| 12/12 [00:06<00:00,  1.83it/s]\n"
     ]
    },
    {
     "name": "stdout",
     "output_type": "stream",
     "text": [
      "Epoch 31\n",
      "classification validation loss: 0.26269\n",
      "classification validation accuracy: 0.90430\n",
      "\n"
     ]
    },
    {
     "name": "stderr",
     "output_type": "stream",
     "text": [
      "100%|███████████████████████████████████████████| 49/49 [00:32<00:00,  1.49it/s]\n"
     ]
    },
    {
     "name": "stdout",
     "output_type": "stream",
     "text": [
      "Adjusting learning rate of group 0 to 8.4567e-01.\n",
      "Epoch 32\n",
      "classification training loss: 0.10191\n",
      "classification training accuracy: 0.96476\n",
      "\n"
     ]
    },
    {
     "name": "stderr",
     "output_type": "stream",
     "text": [
      "100%|███████████████████████████████████████████| 12/12 [00:06<00:00,  1.79it/s]\n"
     ]
    },
    {
     "name": "stdout",
     "output_type": "stream",
     "text": [
      "Epoch 32\n",
      "classification validation loss: 0.23711\n",
      "classification validation accuracy: 0.91276\n",
      "\n"
     ]
    },
    {
     "name": "stderr",
     "output_type": "stream",
     "text": [
      "100%|███████████████████████████████████████████| 49/49 [00:32<00:00,  1.50it/s]\n"
     ]
    },
    {
     "name": "stdout",
     "output_type": "stream",
     "text": [
      "Adjusting learning rate of group 0 to 8.4551e-01.\n",
      "Epoch 33\n",
      "classification training loss: 0.10689\n",
      "classification training accuracy: 0.96014\n",
      "\n"
     ]
    },
    {
     "name": "stderr",
     "output_type": "stream",
     "text": [
      "100%|███████████████████████████████████████████| 12/12 [00:06<00:00,  1.80it/s]\n"
     ]
    },
    {
     "name": "stdout",
     "output_type": "stream",
     "text": [
      "Epoch 33\n",
      "classification validation loss: 0.28070\n",
      "classification validation accuracy: 0.90365\n",
      "\n"
     ]
    },
    {
     "name": "stderr",
     "output_type": "stream",
     "text": [
      "100%|███████████████████████████████████████████| 49/49 [00:32<00:00,  1.51it/s]\n"
     ]
    },
    {
     "name": "stdout",
     "output_type": "stream",
     "text": [
      "Adjusting learning rate of group 0 to 8.4535e-01.\n",
      "Epoch 34\n",
      "classification training loss: 0.09245\n",
      "classification training accuracy: 0.96317\n",
      "\n"
     ]
    },
    {
     "name": "stderr",
     "output_type": "stream",
     "text": [
      "100%|███████████████████████████████████████████| 12/12 [00:06<00:00,  1.86it/s]\n"
     ]
    },
    {
     "name": "stdout",
     "output_type": "stream",
     "text": [
      "Epoch 34\n",
      "classification validation loss: 0.27547\n",
      "classification validation accuracy: 0.90169\n",
      "\n"
     ]
    },
    {
     "name": "stderr",
     "output_type": "stream",
     "text": [
      "100%|███████████████████████████████████████████| 49/49 [00:33<00:00,  1.48it/s]\n"
     ]
    },
    {
     "name": "stdout",
     "output_type": "stream",
     "text": [
      "Adjusting learning rate of group 0 to 8.4518e-01.\n",
      "Epoch 35\n",
      "classification training loss: 0.09795\n",
      "classification training accuracy: 0.95982\n",
      "\n"
     ]
    },
    {
     "name": "stderr",
     "output_type": "stream",
     "text": [
      "100%|███████████████████████████████████████████| 12/12 [00:06<00:00,  1.87it/s]\n"
     ]
    },
    {
     "name": "stdout",
     "output_type": "stream",
     "text": [
      "Epoch 35\n",
      "classification validation loss: 0.27756\n",
      "classification validation accuracy: 0.90560\n",
      "\n"
     ]
    },
    {
     "name": "stderr",
     "output_type": "stream",
     "text": [
      "100%|███████████████████████████████████████████| 49/49 [00:32<00:00,  1.50it/s]\n"
     ]
    },
    {
     "name": "stdout",
     "output_type": "stream",
     "text": [
      "Adjusting learning rate of group 0 to 8.4501e-01.\n",
      "Epoch 36\n",
      "classification training loss: 0.09609\n",
      "classification training accuracy: 0.96445\n",
      "\n"
     ]
    },
    {
     "name": "stderr",
     "output_type": "stream",
     "text": [
      "100%|███████████████████████████████████████████| 12/12 [00:06<00:00,  1.86it/s]\n"
     ]
    },
    {
     "name": "stdout",
     "output_type": "stream",
     "text": [
      "Epoch 36\n",
      "classification validation loss: 0.26753\n",
      "classification validation accuracy: 0.89909\n",
      "\n"
     ]
    },
    {
     "name": "stderr",
     "output_type": "stream",
     "text": [
      "100%|███████████████████████████████████████████| 49/49 [00:32<00:00,  1.52it/s]\n"
     ]
    },
    {
     "name": "stdout",
     "output_type": "stream",
     "text": [
      "Adjusting learning rate of group 0 to 8.4484e-01.\n",
      "Epoch 37\n",
      "classification training loss: 0.09213\n",
      "classification training accuracy: 0.96349\n",
      "\n"
     ]
    },
    {
     "name": "stderr",
     "output_type": "stream",
     "text": [
      "100%|███████████████████████████████████████████| 12/12 [00:06<00:00,  1.90it/s]\n"
     ]
    },
    {
     "name": "stdout",
     "output_type": "stream",
     "text": [
      "Epoch 37\n",
      "classification validation loss: 0.23789\n",
      "classification validation accuracy: 0.90690\n",
      "\n"
     ]
    },
    {
     "name": "stderr",
     "output_type": "stream",
     "text": [
      "100%|███████████████████████████████████████████| 49/49 [00:32<00:00,  1.52it/s]\n"
     ]
    },
    {
     "name": "stdout",
     "output_type": "stream",
     "text": [
      "Adjusting learning rate of group 0 to 8.4466e-01.\n",
      "Epoch 38\n",
      "classification training loss: 0.08605\n",
      "classification training accuracy: 0.96684\n",
      "\n"
     ]
    },
    {
     "name": "stderr",
     "output_type": "stream",
     "text": [
      "100%|███████████████████████████████████████████| 12/12 [00:06<00:00,  1.86it/s]\n"
     ]
    },
    {
     "name": "stdout",
     "output_type": "stream",
     "text": [
      "Epoch 38\n",
      "classification validation loss: 0.33316\n",
      "classification validation accuracy: 0.89388\n",
      "\n"
     ]
    },
    {
     "name": "stderr",
     "output_type": "stream",
     "text": [
      "100%|███████████████████████████████████████████| 49/49 [00:32<00:00,  1.50it/s]\n"
     ]
    },
    {
     "name": "stdout",
     "output_type": "stream",
     "text": [
      "Adjusting learning rate of group 0 to 8.4448e-01.\n",
      "Epoch 39\n",
      "classification training loss: 0.08837\n",
      "classification training accuracy: 0.96747\n",
      "\n"
     ]
    },
    {
     "name": "stderr",
     "output_type": "stream",
     "text": [
      "100%|███████████████████████████████████████████| 12/12 [00:06<00:00,  1.83it/s]\n"
     ]
    },
    {
     "name": "stdout",
     "output_type": "stream",
     "text": [
      "Epoch 39\n",
      "classification validation loss: 0.26629\n",
      "classification validation accuracy: 0.90234\n",
      "\n"
     ]
    },
    {
     "name": "stderr",
     "output_type": "stream",
     "text": [
      "100%|███████████████████████████████████████████| 49/49 [00:32<00:00,  1.51it/s]\n"
     ]
    },
    {
     "name": "stdout",
     "output_type": "stream",
     "text": [
      "Adjusting learning rate of group 0 to 8.4430e-01.\n",
      "saved checkpoint for epoch 40\n",
      "Epoch 40\n",
      "classification training loss: 0.08241\n",
      "classification training accuracy: 0.96684\n",
      "\n"
     ]
    },
    {
     "name": "stderr",
     "output_type": "stream",
     "text": [
      "100%|███████████████████████████████████████████| 12/12 [00:06<00:00,  1.87it/s]\n"
     ]
    },
    {
     "name": "stdout",
     "output_type": "stream",
     "text": [
      "Epoch 40\n",
      "classification validation loss: 0.27768\n",
      "classification validation accuracy: 0.90885\n",
      "\n"
     ]
    },
    {
     "name": "stderr",
     "output_type": "stream",
     "text": [
      "100%|███████████████████████████████████████████| 49/49 [00:32<00:00,  1.50it/s]\n"
     ]
    },
    {
     "name": "stdout",
     "output_type": "stream",
     "text": [
      "Adjusting learning rate of group 0 to 8.4411e-01.\n",
      "Epoch 41\n",
      "classification training loss: 0.07925\n",
      "classification training accuracy: 0.97003\n",
      "\n"
     ]
    },
    {
     "name": "stderr",
     "output_type": "stream",
     "text": [
      "100%|███████████████████████████████████████████| 12/12 [00:06<00:00,  1.81it/s]\n"
     ]
    },
    {
     "name": "stdout",
     "output_type": "stream",
     "text": [
      "Epoch 41\n",
      "classification validation loss: 0.27323\n",
      "classification validation accuracy: 0.90951\n",
      "\n"
     ]
    },
    {
     "name": "stderr",
     "output_type": "stream",
     "text": [
      "100%|███████████████████████████████████████████| 49/49 [00:32<00:00,  1.49it/s]\n"
     ]
    },
    {
     "name": "stdout",
     "output_type": "stream",
     "text": [
      "Adjusting learning rate of group 0 to 8.4391e-01.\n",
      "Epoch 42\n",
      "classification training loss: 0.07085\n",
      "classification training accuracy: 0.97162\n",
      "\n"
     ]
    },
    {
     "name": "stderr",
     "output_type": "stream",
     "text": [
      "100%|███████████████████████████████████████████| 12/12 [00:06<00:00,  1.86it/s]\n"
     ]
    },
    {
     "name": "stdout",
     "output_type": "stream",
     "text": [
      "Epoch 42\n",
      "classification validation loss: 0.24958\n",
      "classification validation accuracy: 0.91732\n",
      "\n"
     ]
    },
    {
     "name": "stderr",
     "output_type": "stream",
     "text": [
      "100%|███████████████████████████████████████████| 49/49 [00:32<00:00,  1.49it/s]\n"
     ]
    },
    {
     "name": "stdout",
     "output_type": "stream",
     "text": [
      "Adjusting learning rate of group 0 to 8.4371e-01.\n",
      "Epoch 43\n",
      "classification training loss: 0.06966\n",
      "classification training accuracy: 0.97210\n",
      "\n"
     ]
    },
    {
     "name": "stderr",
     "output_type": "stream",
     "text": [
      "100%|███████████████████████████████████████████| 12/12 [00:06<00:00,  1.87it/s]\n"
     ]
    },
    {
     "name": "stdout",
     "output_type": "stream",
     "text": [
      "Epoch 43\n",
      "classification validation loss: 0.27046\n",
      "classification validation accuracy: 0.90755\n",
      "\n"
     ]
    },
    {
     "name": "stderr",
     "output_type": "stream",
     "text": [
      "100%|███████████████████████████████████████████| 49/49 [00:32<00:00,  1.50it/s]\n"
     ]
    },
    {
     "name": "stdout",
     "output_type": "stream",
     "text": [
      "Adjusting learning rate of group 0 to 8.4351e-01.\n",
      "Epoch 44\n",
      "classification training loss: 0.07155\n",
      "classification training accuracy: 0.97178\n",
      "\n"
     ]
    },
    {
     "name": "stderr",
     "output_type": "stream",
     "text": [
      "100%|███████████████████████████████████████████| 12/12 [00:06<00:00,  1.90it/s]\n"
     ]
    },
    {
     "name": "stdout",
     "output_type": "stream",
     "text": [
      "Epoch 44\n",
      "classification validation loss: 0.31605\n",
      "classification validation accuracy: 0.90169\n",
      "\n"
     ]
    },
    {
     "name": "stderr",
     "output_type": "stream",
     "text": [
      "100%|███████████████████████████████████████████| 49/49 [00:32<00:00,  1.51it/s]\n"
     ]
    },
    {
     "name": "stdout",
     "output_type": "stream",
     "text": [
      "Adjusting learning rate of group 0 to 8.4330e-01.\n",
      "Epoch 45\n",
      "classification training loss: 0.06712\n",
      "classification training accuracy: 0.97353\n",
      "\n"
     ]
    },
    {
     "name": "stderr",
     "output_type": "stream",
     "text": [
      "100%|███████████████████████████████████████████| 12/12 [00:06<00:00,  1.83it/s]\n"
     ]
    },
    {
     "name": "stdout",
     "output_type": "stream",
     "text": [
      "Epoch 45\n",
      "classification validation loss: 0.31545\n",
      "classification validation accuracy: 0.90755\n",
      "\n"
     ]
    },
    {
     "name": "stderr",
     "output_type": "stream",
     "text": [
      "100%|███████████████████████████████████████████| 49/49 [00:32<00:00,  1.51it/s]\n"
     ]
    },
    {
     "name": "stdout",
     "output_type": "stream",
     "text": [
      "Adjusting learning rate of group 0 to 8.4309e-01.\n",
      "Epoch 46\n",
      "classification training loss: 0.06679\n",
      "classification training accuracy: 0.97305\n",
      "\n"
     ]
    },
    {
     "name": "stderr",
     "output_type": "stream",
     "text": [
      "100%|███████████████████████████████████████████| 12/12 [00:06<00:00,  1.83it/s]\n"
     ]
    },
    {
     "name": "stdout",
     "output_type": "stream",
     "text": [
      "Epoch 46\n",
      "classification validation loss: 0.26141\n",
      "classification validation accuracy: 0.91862\n",
      "\n"
     ]
    },
    {
     "name": "stderr",
     "output_type": "stream",
     "text": [
      "100%|███████████████████████████████████████████| 49/49 [00:32<00:00,  1.50it/s]\n"
     ]
    },
    {
     "name": "stdout",
     "output_type": "stream",
     "text": [
      "Adjusting learning rate of group 0 to 8.4288e-01.\n",
      "Epoch 47\n",
      "classification training loss: 0.06142\n",
      "classification training accuracy: 0.97337\n",
      "\n"
     ]
    },
    {
     "name": "stderr",
     "output_type": "stream",
     "text": [
      "100%|███████████████████████████████████████████| 12/12 [00:06<00:00,  1.90it/s]\n"
     ]
    },
    {
     "name": "stdout",
     "output_type": "stream",
     "text": [
      "Epoch 47\n",
      "classification validation loss: 0.31186\n",
      "classification validation accuracy: 0.90039\n",
      "\n"
     ]
    },
    {
     "name": "stderr",
     "output_type": "stream",
     "text": [
      "100%|███████████████████████████████████████████| 49/49 [00:33<00:00,  1.48it/s]\n"
     ]
    },
    {
     "name": "stdout",
     "output_type": "stream",
     "text": [
      "Adjusting learning rate of group 0 to 8.4266e-01.\n",
      "Epoch 48\n",
      "classification training loss: 0.06415\n",
      "classification training accuracy: 0.97369\n",
      "\n"
     ]
    },
    {
     "name": "stderr",
     "output_type": "stream",
     "text": [
      "100%|███████████████████████████████████████████| 12/12 [00:06<00:00,  1.84it/s]\n"
     ]
    },
    {
     "name": "stdout",
     "output_type": "stream",
     "text": [
      "Epoch 48\n",
      "classification validation loss: 0.27976\n",
      "classification validation accuracy: 0.91276\n",
      "\n"
     ]
    },
    {
     "name": "stderr",
     "output_type": "stream",
     "text": [
      "100%|███████████████████████████████████████████| 49/49 [00:32<00:00,  1.49it/s]\n"
     ]
    },
    {
     "name": "stdout",
     "output_type": "stream",
     "text": [
      "Adjusting learning rate of group 0 to 8.4244e-01.\n",
      "Epoch 49\n",
      "classification training loss: 0.06109\n",
      "classification training accuracy: 0.97417\n",
      "\n"
     ]
    },
    {
     "name": "stderr",
     "output_type": "stream",
     "text": [
      "100%|███████████████████████████████████████████| 12/12 [00:06<00:00,  1.86it/s]\n"
     ]
    },
    {
     "name": "stdout",
     "output_type": "stream",
     "text": [
      "Epoch 49\n",
      "classification validation loss: 0.25553\n",
      "classification validation accuracy: 0.91732\n",
      "\n"
     ]
    },
    {
     "name": "stderr",
     "output_type": "stream",
     "text": [
      "100%|███████████████████████████████████████████| 49/49 [00:32<00:00,  1.49it/s]\n"
     ]
    },
    {
     "name": "stdout",
     "output_type": "stream",
     "text": [
      "Adjusting learning rate of group 0 to 8.4221e-01.\n",
      "saved checkpoint for epoch 50\n",
      "Epoch 50\n",
      "classification training loss: 0.06174\n",
      "classification training accuracy: 0.97481\n",
      "\n"
     ]
    },
    {
     "name": "stderr",
     "output_type": "stream",
     "text": [
      "100%|███████████████████████████████████████████| 12/12 [00:06<00:00,  1.84it/s]\n"
     ]
    },
    {
     "name": "stdout",
     "output_type": "stream",
     "text": [
      "Epoch 50\n",
      "classification validation loss: 0.30919\n",
      "classification validation accuracy: 0.90495\n",
      "\n"
     ]
    },
    {
     "name": "stderr",
     "output_type": "stream",
     "text": [
      "100%|███████████████████████████████████████████| 49/49 [00:32<00:00,  1.50it/s]\n"
     ]
    },
    {
     "name": "stdout",
     "output_type": "stream",
     "text": [
      "Adjusting learning rate of group 0 to 8.4198e-01.\n",
      "Epoch 51\n",
      "classification training loss: 0.06314\n",
      "classification training accuracy: 0.97305\n",
      "\n"
     ]
    },
    {
     "name": "stderr",
     "output_type": "stream",
     "text": [
      "100%|███████████████████████████████████████████| 12/12 [00:06<00:00,  1.89it/s]\n"
     ]
    },
    {
     "name": "stdout",
     "output_type": "stream",
     "text": [
      "Epoch 51\n",
      "classification validation loss: 0.28623\n",
      "classification validation accuracy: 0.91146\n",
      "\n"
     ]
    },
    {
     "name": "stderr",
     "output_type": "stream",
     "text": [
      "100%|███████████████████████████████████████████| 49/49 [00:32<00:00,  1.50it/s]\n"
     ]
    },
    {
     "name": "stdout",
     "output_type": "stream",
     "text": [
      "Adjusting learning rate of group 0 to 8.4174e-01.\n",
      "Epoch 52\n",
      "classification training loss: 0.05677\n",
      "classification training accuracy: 0.97497\n",
      "\n"
     ]
    },
    {
     "name": "stderr",
     "output_type": "stream",
     "text": [
      "100%|███████████████████████████████████████████| 12/12 [00:06<00:00,  1.88it/s]\n"
     ]
    },
    {
     "name": "stdout",
     "output_type": "stream",
     "text": [
      "Epoch 52\n",
      "classification validation loss: 0.27241\n",
      "classification validation accuracy: 0.90951\n",
      "\n"
     ]
    },
    {
     "name": "stderr",
     "output_type": "stream",
     "text": [
      "100%|███████████████████████████████████████████| 49/49 [00:33<00:00,  1.47it/s]\n"
     ]
    },
    {
     "name": "stdout",
     "output_type": "stream",
     "text": [
      "Adjusting learning rate of group 0 to 8.4150e-01.\n",
      "Epoch 53\n",
      "classification training loss: 0.05939\n",
      "classification training accuracy: 0.97321\n",
      "\n"
     ]
    },
    {
     "name": "stderr",
     "output_type": "stream",
     "text": [
      "100%|███████████████████████████████████████████| 12/12 [00:06<00:00,  1.89it/s]\n"
     ]
    },
    {
     "name": "stdout",
     "output_type": "stream",
     "text": [
      "Epoch 53\n",
      "classification validation loss: 0.28101\n",
      "classification validation accuracy: 0.91536\n",
      "\n"
     ]
    },
    {
     "name": "stderr",
     "output_type": "stream",
     "text": [
      "100%|███████████████████████████████████████████| 49/49 [00:32<00:00,  1.50it/s]\n"
     ]
    },
    {
     "name": "stdout",
     "output_type": "stream",
     "text": [
      "Adjusting learning rate of group 0 to 8.4126e-01.\n",
      "Epoch 54\n",
      "classification training loss: 0.06035\n",
      "classification training accuracy: 0.97401\n",
      "\n"
     ]
    },
    {
     "name": "stderr",
     "output_type": "stream",
     "text": [
      "100%|███████████████████████████████████████████| 12/12 [00:06<00:00,  1.81it/s]\n"
     ]
    },
    {
     "name": "stdout",
     "output_type": "stream",
     "text": [
      "Epoch 54\n",
      "classification validation loss: 0.29676\n",
      "classification validation accuracy: 0.90755\n",
      "\n"
     ]
    },
    {
     "name": "stderr",
     "output_type": "stream",
     "text": [
      "100%|███████████████████████████████████████████| 49/49 [00:32<00:00,  1.51it/s]\n"
     ]
    },
    {
     "name": "stdout",
     "output_type": "stream",
     "text": [
      "Adjusting learning rate of group 0 to 8.4101e-01.\n",
      "Epoch 55\n",
      "classification training loss: 0.05834\n",
      "classification training accuracy: 0.97497\n",
      "\n"
     ]
    },
    {
     "name": "stderr",
     "output_type": "stream",
     "text": [
      "100%|███████████████████████████████████████████| 12/12 [00:06<00:00,  1.84it/s]\n"
     ]
    },
    {
     "name": "stdout",
     "output_type": "stream",
     "text": [
      "Epoch 55\n",
      "classification validation loss: 0.27843\n",
      "classification validation accuracy: 0.90625\n",
      "\n"
     ]
    },
    {
     "name": "stderr",
     "output_type": "stream",
     "text": [
      "100%|███████████████████████████████████████████| 49/49 [00:32<00:00,  1.50it/s]\n"
     ]
    },
    {
     "name": "stdout",
     "output_type": "stream",
     "text": [
      "Adjusting learning rate of group 0 to 8.4076e-01.\n",
      "Epoch 56\n",
      "classification training loss: 0.05582\n",
      "classification training accuracy: 0.97577\n",
      "\n"
     ]
    },
    {
     "name": "stderr",
     "output_type": "stream",
     "text": [
      "100%|███████████████████████████████████████████| 12/12 [00:06<00:00,  1.87it/s]\n"
     ]
    },
    {
     "name": "stdout",
     "output_type": "stream",
     "text": [
      "Epoch 56\n",
      "classification validation loss: 0.30547\n",
      "classification validation accuracy: 0.90951\n",
      "\n"
     ]
    },
    {
     "name": "stderr",
     "output_type": "stream",
     "text": [
      "100%|███████████████████████████████████████████| 49/49 [00:32<00:00,  1.50it/s]\n"
     ]
    },
    {
     "name": "stdout",
     "output_type": "stream",
     "text": [
      "Adjusting learning rate of group 0 to 8.4051e-01.\n",
      "Epoch 57\n",
      "classification training loss: 0.04854\n",
      "classification training accuracy: 0.97704\n",
      "\n"
     ]
    },
    {
     "name": "stderr",
     "output_type": "stream",
     "text": [
      "100%|███████████████████████████████████████████| 12/12 [00:06<00:00,  1.86it/s]\n"
     ]
    },
    {
     "name": "stdout",
     "output_type": "stream",
     "text": [
      "Epoch 57\n",
      "classification validation loss: 0.32770\n",
      "classification validation accuracy: 0.91341\n",
      "\n"
     ]
    },
    {
     "name": "stderr",
     "output_type": "stream",
     "text": [
      "100%|███████████████████████████████████████████| 49/49 [00:32<00:00,  1.52it/s]\n"
     ]
    },
    {
     "name": "stdout",
     "output_type": "stream",
     "text": [
      "Adjusting learning rate of group 0 to 8.4025e-01.\n",
      "Epoch 58\n",
      "classification training loss: 0.05454\n",
      "classification training accuracy: 0.97449\n",
      "\n"
     ]
    },
    {
     "name": "stderr",
     "output_type": "stream",
     "text": [
      "100%|███████████████████████████████████████████| 12/12 [00:06<00:00,  1.87it/s]\n"
     ]
    },
    {
     "name": "stdout",
     "output_type": "stream",
     "text": [
      "Epoch 58\n",
      "classification validation loss: 0.28077\n",
      "classification validation accuracy: 0.90560\n",
      "\n"
     ]
    },
    {
     "name": "stderr",
     "output_type": "stream",
     "text": [
      "100%|███████████████████████████████████████████| 49/49 [00:32<00:00,  1.52it/s]\n"
     ]
    },
    {
     "name": "stdout",
     "output_type": "stream",
     "text": [
      "Adjusting learning rate of group 0 to 8.3998e-01.\n",
      "Epoch 59\n",
      "classification training loss: 0.05005\n",
      "classification training accuracy: 0.97704\n",
      "\n"
     ]
    },
    {
     "name": "stderr",
     "output_type": "stream",
     "text": [
      "100%|███████████████████████████████████████████| 12/12 [00:06<00:00,  1.86it/s]\n"
     ]
    },
    {
     "name": "stdout",
     "output_type": "stream",
     "text": [
      "Epoch 59\n",
      "classification validation loss: 0.30231\n",
      "classification validation accuracy: 0.91732\n",
      "\n"
     ]
    },
    {
     "name": "stderr",
     "output_type": "stream",
     "text": [
      "100%|███████████████████████████████████████████| 49/49 [00:33<00:00,  1.48it/s]\n"
     ]
    },
    {
     "name": "stdout",
     "output_type": "stream",
     "text": [
      "Adjusting learning rate of group 0 to 8.3971e-01.\n",
      "saved checkpoint for epoch 60\n",
      "Epoch 60\n",
      "classification training loss: 0.05268\n",
      "classification training accuracy: 0.97608\n",
      "\n"
     ]
    },
    {
     "name": "stderr",
     "output_type": "stream",
     "text": [
      "100%|███████████████████████████████████████████| 12/12 [00:06<00:00,  1.85it/s]\n"
     ]
    },
    {
     "name": "stdout",
     "output_type": "stream",
     "text": [
      "Epoch 60\n",
      "classification validation loss: 0.32684\n",
      "classification validation accuracy: 0.90234\n",
      "\n"
     ]
    },
    {
     "name": "stderr",
     "output_type": "stream",
     "text": [
      "100%|███████████████████████████████████████████| 49/49 [00:32<00:00,  1.50it/s]\n"
     ]
    },
    {
     "name": "stdout",
     "output_type": "stream",
     "text": [
      "Adjusting learning rate of group 0 to 8.3944e-01.\n",
      "Epoch 61\n",
      "classification training loss: 0.05111\n",
      "classification training accuracy: 0.97688\n",
      "\n"
     ]
    },
    {
     "name": "stderr",
     "output_type": "stream",
     "text": [
      "100%|███████████████████████████████████████████| 12/12 [00:06<00:00,  1.87it/s]\n"
     ]
    },
    {
     "name": "stdout",
     "output_type": "stream",
     "text": [
      "Epoch 61\n",
      "classification validation loss: 0.31469\n",
      "classification validation accuracy: 0.90690\n",
      "\n"
     ]
    },
    {
     "name": "stderr",
     "output_type": "stream",
     "text": [
      "100%|███████████████████████████████████████████| 49/49 [00:32<00:00,  1.51it/s]\n"
     ]
    },
    {
     "name": "stdout",
     "output_type": "stream",
     "text": [
      "Adjusting learning rate of group 0 to 8.3916e-01.\n",
      "Epoch 62\n",
      "classification training loss: 0.04774\n",
      "classification training accuracy: 0.98007\n",
      "\n"
     ]
    },
    {
     "name": "stderr",
     "output_type": "stream",
     "text": [
      "100%|███████████████████████████████████████████| 12/12 [00:06<00:00,  1.89it/s]\n"
     ]
    },
    {
     "name": "stdout",
     "output_type": "stream",
     "text": [
      "Epoch 62\n",
      "classification validation loss: 0.28871\n",
      "classification validation accuracy: 0.91276\n",
      "\n"
     ]
    },
    {
     "name": "stderr",
     "output_type": "stream",
     "text": [
      "100%|███████████████████████████████████████████| 49/49 [00:32<00:00,  1.51it/s]\n"
     ]
    },
    {
     "name": "stdout",
     "output_type": "stream",
     "text": [
      "Adjusting learning rate of group 0 to 8.3888e-01.\n",
      "Epoch 63\n",
      "classification training loss: 0.05282\n",
      "classification training accuracy: 0.97720\n",
      "\n"
     ]
    },
    {
     "name": "stderr",
     "output_type": "stream",
     "text": [
      "100%|███████████████████████████████████████████| 12/12 [00:06<00:00,  1.82it/s]\n"
     ]
    },
    {
     "name": "stdout",
     "output_type": "stream",
     "text": [
      "Epoch 63\n",
      "classification validation loss: 0.28169\n",
      "classification validation accuracy: 0.91276\n",
      "\n"
     ]
    },
    {
     "name": "stderr",
     "output_type": "stream",
     "text": [
      "100%|███████████████████████████████████████████| 49/49 [00:32<00:00,  1.51it/s]\n"
     ]
    },
    {
     "name": "stdout",
     "output_type": "stream",
     "text": [
      "Adjusting learning rate of group 0 to 8.3860e-01.\n",
      "Epoch 64\n",
      "classification training loss: 0.05110\n",
      "classification training accuracy: 0.97688\n",
      "\n"
     ]
    },
    {
     "name": "stderr",
     "output_type": "stream",
     "text": [
      "100%|███████████████████████████████████████████| 12/12 [00:06<00:00,  1.88it/s]\n"
     ]
    },
    {
     "name": "stdout",
     "output_type": "stream",
     "text": [
      "Epoch 64\n",
      "classification validation loss: 0.28406\n",
      "classification validation accuracy: 0.91667\n",
      "\n"
     ]
    },
    {
     "name": "stderr",
     "output_type": "stream",
     "text": [
      "100%|███████████████████████████████████████████| 49/49 [00:32<00:00,  1.52it/s]\n"
     ]
    },
    {
     "name": "stdout",
     "output_type": "stream",
     "text": [
      "Adjusting learning rate of group 0 to 8.3831e-01.\n",
      "Epoch 65\n",
      "classification training loss: 0.04476\n",
      "classification training accuracy: 0.97991\n",
      "\n"
     ]
    },
    {
     "name": "stderr",
     "output_type": "stream",
     "text": [
      "100%|███████████████████████████████████████████| 12/12 [00:06<00:00,  1.85it/s]\n"
     ]
    },
    {
     "name": "stdout",
     "output_type": "stream",
     "text": [
      "Epoch 65\n",
      "classification validation loss: 0.27720\n",
      "classification validation accuracy: 0.91602\n",
      "\n"
     ]
    },
    {
     "name": "stderr",
     "output_type": "stream",
     "text": [
      "100%|███████████████████████████████████████████| 49/49 [00:33<00:00,  1.48it/s]\n"
     ]
    },
    {
     "name": "stdout",
     "output_type": "stream",
     "text": [
      "Adjusting learning rate of group 0 to 8.3802e-01.\n",
      "Epoch 66\n",
      "classification training loss: 0.04627\n",
      "classification training accuracy: 0.97911\n",
      "\n"
     ]
    },
    {
     "name": "stderr",
     "output_type": "stream",
     "text": [
      "100%|███████████████████████████████████████████| 12/12 [00:06<00:00,  1.84it/s]\n"
     ]
    },
    {
     "name": "stdout",
     "output_type": "stream",
     "text": [
      "Epoch 66\n",
      "classification validation loss: 0.37647\n",
      "classification validation accuracy: 0.89583\n",
      "\n"
     ]
    },
    {
     "name": "stderr",
     "output_type": "stream",
     "text": [
      "100%|███████████████████████████████████████████| 49/49 [00:32<00:00,  1.51it/s]\n"
     ]
    },
    {
     "name": "stdout",
     "output_type": "stream",
     "text": [
      "Adjusting learning rate of group 0 to 8.3772e-01.\n",
      "Epoch 67\n",
      "classification training loss: 0.04511\n",
      "classification training accuracy: 0.97832\n",
      "\n"
     ]
    },
    {
     "name": "stderr",
     "output_type": "stream",
     "text": [
      "100%|███████████████████████████████████████████| 12/12 [00:06<00:00,  1.86it/s]\n"
     ]
    },
    {
     "name": "stdout",
     "output_type": "stream",
     "text": [
      "Epoch 67\n",
      "classification validation loss: 0.32428\n",
      "classification validation accuracy: 0.91406\n",
      "\n"
     ]
    },
    {
     "name": "stderr",
     "output_type": "stream",
     "text": [
      "100%|███████████████████████████████████████████| 49/49 [00:32<00:00,  1.51it/s]\n"
     ]
    },
    {
     "name": "stdout",
     "output_type": "stream",
     "text": [
      "Adjusting learning rate of group 0 to 8.3742e-01.\n",
      "Epoch 68\n",
      "classification training loss: 0.04363\n",
      "classification training accuracy: 0.98023\n",
      "\n"
     ]
    },
    {
     "name": "stderr",
     "output_type": "stream",
     "text": [
      "100%|███████████████████████████████████████████| 12/12 [00:06<00:00,  1.84it/s]\n"
     ]
    },
    {
     "name": "stdout",
     "output_type": "stream",
     "text": [
      "Epoch 68\n",
      "classification validation loss: 0.33160\n",
      "classification validation accuracy: 0.91016\n",
      "\n"
     ]
    },
    {
     "name": "stderr",
     "output_type": "stream",
     "text": [
      "100%|███████████████████████████████████████████| 49/49 [00:33<00:00,  1.48it/s]\n"
     ]
    },
    {
     "name": "stdout",
     "output_type": "stream",
     "text": [
      "Adjusting learning rate of group 0 to 8.3711e-01.\n",
      "Epoch 69\n",
      "classification training loss: 0.04430\n",
      "classification training accuracy: 0.97895\n",
      "\n"
     ]
    },
    {
     "name": "stderr",
     "output_type": "stream",
     "text": [
      "100%|███████████████████████████████████████████| 12/12 [00:06<00:00,  1.84it/s]\n"
     ]
    },
    {
     "name": "stdout",
     "output_type": "stream",
     "text": [
      "Epoch 69\n",
      "classification validation loss: 0.34123\n",
      "classification validation accuracy: 0.90560\n",
      "\n"
     ]
    },
    {
     "name": "stderr",
     "output_type": "stream",
     "text": [
      "100%|███████████████████████████████████████████| 49/49 [00:32<00:00,  1.51it/s]\n"
     ]
    },
    {
     "name": "stdout",
     "output_type": "stream",
     "text": [
      "Adjusting learning rate of group 0 to 8.3681e-01.\n",
      "saved checkpoint for epoch 70\n",
      "Epoch 70\n",
      "classification training loss: 0.04292\n",
      "classification training accuracy: 0.97975\n",
      "\n"
     ]
    },
    {
     "name": "stderr",
     "output_type": "stream",
     "text": [
      "100%|███████████████████████████████████████████| 12/12 [00:06<00:00,  1.84it/s]\n"
     ]
    },
    {
     "name": "stdout",
     "output_type": "stream",
     "text": [
      "Epoch 70\n",
      "classification validation loss: 0.30254\n",
      "classification validation accuracy: 0.91146\n",
      "\n"
     ]
    },
    {
     "name": "stderr",
     "output_type": "stream",
     "text": [
      "100%|███████████████████████████████████████████| 49/49 [00:32<00:00,  1.51it/s]\n"
     ]
    },
    {
     "name": "stdout",
     "output_type": "stream",
     "text": [
      "Adjusting learning rate of group 0 to 8.3649e-01.\n",
      "Epoch 71\n",
      "classification training loss: 0.04820\n",
      "classification training accuracy: 0.98023\n",
      "\n"
     ]
    },
    {
     "name": "stderr",
     "output_type": "stream",
     "text": [
      "100%|███████████████████████████████████████████| 12/12 [00:06<00:00,  1.84it/s]\n"
     ]
    },
    {
     "name": "stdout",
     "output_type": "stream",
     "text": [
      "Epoch 71\n",
      "classification validation loss: 0.34200\n",
      "classification validation accuracy: 0.90430\n",
      "\n"
     ]
    },
    {
     "name": "stderr",
     "output_type": "stream",
     "text": [
      "100%|███████████████████████████████████████████| 49/49 [00:32<00:00,  1.51it/s]\n"
     ]
    },
    {
     "name": "stdout",
     "output_type": "stream",
     "text": [
      "Adjusting learning rate of group 0 to 8.3618e-01.\n",
      "Epoch 72\n",
      "classification training loss: 0.04449\n",
      "classification training accuracy: 0.98055\n",
      "\n"
     ]
    },
    {
     "name": "stderr",
     "output_type": "stream",
     "text": [
      "100%|███████████████████████████████████████████| 12/12 [00:06<00:00,  1.85it/s]\n"
     ]
    },
    {
     "name": "stdout",
     "output_type": "stream",
     "text": [
      "Epoch 72\n",
      "classification validation loss: 0.34421\n",
      "classification validation accuracy: 0.91146\n",
      "\n"
     ]
    },
    {
     "name": "stderr",
     "output_type": "stream",
     "text": [
      "100%|███████████████████████████████████████████| 49/49 [00:32<00:00,  1.50it/s]\n"
     ]
    },
    {
     "name": "stdout",
     "output_type": "stream",
     "text": [
      "Adjusting learning rate of group 0 to 8.3585e-01.\n",
      "Epoch 73\n",
      "classification training loss: 0.04541\n",
      "classification training accuracy: 0.97848\n",
      "\n"
     ]
    },
    {
     "name": "stderr",
     "output_type": "stream",
     "text": [
      "100%|███████████████████████████████████████████| 12/12 [00:06<00:00,  1.89it/s]\n"
     ]
    },
    {
     "name": "stdout",
     "output_type": "stream",
     "text": [
      "Epoch 73\n",
      "classification validation loss: 0.32331\n",
      "classification validation accuracy: 0.91732\n",
      "\n"
     ]
    },
    {
     "name": "stderr",
     "output_type": "stream",
     "text": [
      "100%|███████████████████████████████████████████| 49/49 [00:32<00:00,  1.50it/s]\n"
     ]
    },
    {
     "name": "stdout",
     "output_type": "stream",
     "text": [
      "Adjusting learning rate of group 0 to 8.3553e-01.\n",
      "Epoch 74\n",
      "classification training loss: 0.04584\n",
      "classification training accuracy: 0.97943\n",
      "\n"
     ]
    },
    {
     "name": "stderr",
     "output_type": "stream",
     "text": [
      "100%|███████████████████████████████████████████| 12/12 [00:06<00:00,  1.85it/s]\n"
     ]
    },
    {
     "name": "stdout",
     "output_type": "stream",
     "text": [
      "Epoch 74\n",
      "classification validation loss: 0.38498\n",
      "classification validation accuracy: 0.91081\n",
      "\n"
     ]
    },
    {
     "name": "stderr",
     "output_type": "stream",
     "text": [
      "100%|███████████████████████████████████████████| 49/49 [00:33<00:00,  1.48it/s]\n"
     ]
    },
    {
     "name": "stdout",
     "output_type": "stream",
     "text": [
      "Adjusting learning rate of group 0 to 8.3520e-01.\n",
      "Epoch 75\n",
      "classification training loss: 0.04290\n",
      "classification training accuracy: 0.97991\n",
      "\n"
     ]
    },
    {
     "name": "stderr",
     "output_type": "stream",
     "text": [
      "100%|███████████████████████████████████████████| 12/12 [00:06<00:00,  1.82it/s]\n"
     ]
    },
    {
     "name": "stdout",
     "output_type": "stream",
     "text": [
      "Epoch 75\n",
      "classification validation loss: 0.28701\n",
      "classification validation accuracy: 0.91992\n",
      "\n"
     ]
    },
    {
     "name": "stderr",
     "output_type": "stream",
     "text": [
      "100%|███████████████████████████████████████████| 49/49 [00:33<00:00,  1.48it/s]\n"
     ]
    },
    {
     "name": "stdout",
     "output_type": "stream",
     "text": [
      "Adjusting learning rate of group 0 to 8.3487e-01.\n",
      "Epoch 76\n",
      "classification training loss: 0.03724\n",
      "classification training accuracy: 0.98214\n",
      "\n"
     ]
    },
    {
     "name": "stderr",
     "output_type": "stream",
     "text": [
      "100%|███████████████████████████████████████████| 12/12 [00:06<00:00,  1.84it/s]\n"
     ]
    },
    {
     "name": "stdout",
     "output_type": "stream",
     "text": [
      "Epoch 76\n",
      "classification validation loss: 0.33006\n",
      "classification validation accuracy: 0.91536\n",
      "\n"
     ]
    },
    {
     "name": "stderr",
     "output_type": "stream",
     "text": [
      "100%|███████████████████████████████████████████| 49/49 [00:32<00:00,  1.52it/s]\n"
     ]
    },
    {
     "name": "stdout",
     "output_type": "stream",
     "text": [
      "Adjusting learning rate of group 0 to 8.3453e-01.\n",
      "Epoch 77\n",
      "classification training loss: 0.04249\n",
      "classification training accuracy: 0.97911\n",
      "\n"
     ]
    },
    {
     "name": "stderr",
     "output_type": "stream",
     "text": [
      "100%|███████████████████████████████████████████| 12/12 [00:06<00:00,  1.89it/s]\n"
     ]
    },
    {
     "name": "stdout",
     "output_type": "stream",
     "text": [
      "Epoch 77\n",
      "classification validation loss: 0.31465\n",
      "classification validation accuracy: 0.92773\n",
      "\n"
     ]
    },
    {
     "name": "stderr",
     "output_type": "stream",
     "text": [
      "100%|███████████████████████████████████████████| 49/49 [00:32<00:00,  1.51it/s]\n"
     ]
    },
    {
     "name": "stdout",
     "output_type": "stream",
     "text": [
      "Adjusting learning rate of group 0 to 8.3419e-01.\n",
      "Epoch 78\n",
      "classification training loss: 0.04465\n",
      "classification training accuracy: 0.97816\n",
      "\n"
     ]
    },
    {
     "name": "stderr",
     "output_type": "stream",
     "text": [
      "100%|███████████████████████████████████████████| 12/12 [00:06<00:00,  1.85it/s]\n"
     ]
    },
    {
     "name": "stdout",
     "output_type": "stream",
     "text": [
      "Epoch 78\n",
      "classification validation loss: 0.28474\n",
      "classification validation accuracy: 0.91406\n",
      "\n"
     ]
    },
    {
     "name": "stderr",
     "output_type": "stream",
     "text": [
      "100%|███████████████████████████████████████████| 49/49 [00:32<00:00,  1.51it/s]\n"
     ]
    },
    {
     "name": "stdout",
     "output_type": "stream",
     "text": [
      "Adjusting learning rate of group 0 to 8.3384e-01.\n",
      "Epoch 79\n",
      "classification training loss: 0.04449\n",
      "classification training accuracy: 0.98023\n",
      "\n"
     ]
    },
    {
     "name": "stderr",
     "output_type": "stream",
     "text": [
      "100%|███████████████████████████████████████████| 12/12 [00:06<00:00,  1.85it/s]\n"
     ]
    },
    {
     "name": "stdout",
     "output_type": "stream",
     "text": [
      "Epoch 79\n",
      "classification validation loss: 0.32449\n",
      "classification validation accuracy: 0.91927\n",
      "\n"
     ]
    },
    {
     "name": "stderr",
     "output_type": "stream",
     "text": [
      "100%|███████████████████████████████████████████| 49/49 [00:32<00:00,  1.51it/s]\n"
     ]
    },
    {
     "name": "stdout",
     "output_type": "stream",
     "text": [
      "Adjusting learning rate of group 0 to 8.3349e-01.\n",
      "saved checkpoint for epoch 80\n",
      "Epoch 80\n",
      "classification training loss: 0.04072\n",
      "classification training accuracy: 0.97975\n",
      "\n"
     ]
    },
    {
     "name": "stderr",
     "output_type": "stream",
     "text": [
      "100%|███████████████████████████████████████████| 12/12 [00:06<00:00,  1.83it/s]\n"
     ]
    },
    {
     "name": "stdout",
     "output_type": "stream",
     "text": [
      "Epoch 80\n",
      "classification validation loss: 0.28620\n",
      "classification validation accuracy: 0.91927\n",
      "\n"
     ]
    },
    {
     "name": "stderr",
     "output_type": "stream",
     "text": [
      "100%|███████████████████████████████████████████| 49/49 [00:32<00:00,  1.50it/s]\n"
     ]
    },
    {
     "name": "stdout",
     "output_type": "stream",
     "text": [
      "Adjusting learning rate of group 0 to 8.3314e-01.\n",
      "Epoch 81\n",
      "classification training loss: 0.03933\n",
      "classification training accuracy: 0.98103\n",
      "\n"
     ]
    },
    {
     "name": "stderr",
     "output_type": "stream",
     "text": [
      "100%|███████████████████████████████████████████| 12/12 [00:06<00:00,  1.88it/s]\n"
     ]
    },
    {
     "name": "stdout",
     "output_type": "stream",
     "text": [
      "Epoch 81\n",
      "classification validation loss: 0.29229\n",
      "classification validation accuracy: 0.92122\n",
      "\n"
     ]
    },
    {
     "name": "stderr",
     "output_type": "stream",
     "text": [
      "100%|███████████████████████████████████████████| 49/49 [00:32<00:00,  1.52it/s]\n"
     ]
    },
    {
     "name": "stdout",
     "output_type": "stream",
     "text": [
      "Adjusting learning rate of group 0 to 8.3278e-01.\n",
      "Epoch 82\n",
      "classification training loss: 0.03823\n",
      "classification training accuracy: 0.98198\n",
      "\n"
     ]
    },
    {
     "name": "stderr",
     "output_type": "stream",
     "text": [
      "100%|███████████████████████████████████████████| 12/12 [00:06<00:00,  1.85it/s]\n"
     ]
    },
    {
     "name": "stdout",
     "output_type": "stream",
     "text": [
      "Epoch 82\n",
      "classification validation loss: 0.29655\n",
      "classification validation accuracy: 0.92253\n",
      "\n"
     ]
    },
    {
     "name": "stderr",
     "output_type": "stream",
     "text": [
      "100%|███████████████████████████████████████████| 49/49 [00:32<00:00,  1.51it/s]\n"
     ]
    },
    {
     "name": "stdout",
     "output_type": "stream",
     "text": [
      "Adjusting learning rate of group 0 to 8.3242e-01.\n",
      "Epoch 83\n",
      "classification training loss: 0.03861\n",
      "classification training accuracy: 0.98166\n",
      "\n"
     ]
    },
    {
     "name": "stderr",
     "output_type": "stream",
     "text": [
      "100%|███████████████████████████████████████████| 12/12 [00:06<00:00,  1.85it/s]\n"
     ]
    },
    {
     "name": "stdout",
     "output_type": "stream",
     "text": [
      "Epoch 83\n",
      "classification validation loss: 0.29538\n",
      "classification validation accuracy: 0.91667\n",
      "\n"
     ]
    },
    {
     "name": "stderr",
     "output_type": "stream",
     "text": [
      "100%|███████████████████████████████████████████| 49/49 [00:32<00:00,  1.51it/s]\n"
     ]
    },
    {
     "name": "stdout",
     "output_type": "stream",
     "text": [
      "Adjusting learning rate of group 0 to 8.3205e-01.\n",
      "Epoch 84\n",
      "classification training loss: 0.03855\n",
      "classification training accuracy: 0.98278\n",
      "\n"
     ]
    },
    {
     "name": "stderr",
     "output_type": "stream",
     "text": [
      "100%|███████████████████████████████████████████| 12/12 [00:06<00:00,  1.84it/s]\n"
     ]
    },
    {
     "name": "stdout",
     "output_type": "stream",
     "text": [
      "Epoch 84\n",
      "classification validation loss: 0.29793\n",
      "classification validation accuracy: 0.91667\n",
      "\n"
     ]
    },
    {
     "name": "stderr",
     "output_type": "stream",
     "text": [
      "100%|███████████████████████████████████████████| 49/49 [00:32<00:00,  1.50it/s]\n"
     ]
    },
    {
     "name": "stdout",
     "output_type": "stream",
     "text": [
      "Adjusting learning rate of group 0 to 8.3168e-01.\n",
      "Epoch 85\n",
      "classification training loss: 0.03423\n",
      "classification training accuracy: 0.98469\n",
      "\n"
     ]
    },
    {
     "name": "stderr",
     "output_type": "stream",
     "text": [
      "100%|███████████████████████████████████████████| 12/12 [00:06<00:00,  1.85it/s]\n"
     ]
    },
    {
     "name": "stdout",
     "output_type": "stream",
     "text": [
      "Epoch 85\n",
      "classification validation loss: 0.34680\n",
      "classification validation accuracy: 0.91146\n",
      "\n"
     ]
    },
    {
     "name": "stderr",
     "output_type": "stream",
     "text": [
      "100%|███████████████████████████████████████████| 49/49 [00:32<00:00,  1.50it/s]\n"
     ]
    },
    {
     "name": "stdout",
     "output_type": "stream",
     "text": [
      "Adjusting learning rate of group 0 to 8.3131e-01.\n",
      "Epoch 86\n",
      "classification training loss: 0.04157\n",
      "classification training accuracy: 0.98103\n",
      "\n"
     ]
    },
    {
     "name": "stderr",
     "output_type": "stream",
     "text": [
      "100%|███████████████████████████████████████████| 12/12 [00:06<00:00,  1.87it/s]\n"
     ]
    },
    {
     "name": "stdout",
     "output_type": "stream",
     "text": [
      "Epoch 86\n",
      "classification validation loss: 0.35132\n",
      "classification validation accuracy: 0.91471\n",
      "\n"
     ]
    },
    {
     "name": "stderr",
     "output_type": "stream",
     "text": [
      "100%|███████████████████████████████████████████| 49/49 [00:32<00:00,  1.51it/s]\n"
     ]
    },
    {
     "name": "stdout",
     "output_type": "stream",
     "text": [
      "Adjusting learning rate of group 0 to 8.3093e-01.\n",
      "Epoch 87\n",
      "classification training loss: 0.03960\n",
      "classification training accuracy: 0.98071\n",
      "\n"
     ]
    },
    {
     "name": "stderr",
     "output_type": "stream",
     "text": [
      "100%|███████████████████████████████████████████| 12/12 [00:06<00:00,  1.83it/s]\n"
     ]
    },
    {
     "name": "stdout",
     "output_type": "stream",
     "text": [
      "Epoch 87\n",
      "classification validation loss: 0.34608\n",
      "classification validation accuracy: 0.91536\n",
      "\n"
     ]
    },
    {
     "name": "stderr",
     "output_type": "stream",
     "text": [
      "100%|███████████████████████████████████████████| 49/49 [00:32<00:00,  1.50it/s]\n"
     ]
    },
    {
     "name": "stdout",
     "output_type": "stream",
     "text": [
      "Adjusting learning rate of group 0 to 8.3055e-01.\n",
      "Epoch 88\n",
      "classification training loss: 0.03350\n",
      "classification training accuracy: 0.98071\n",
      "\n"
     ]
    },
    {
     "name": "stderr",
     "output_type": "stream",
     "text": [
      "100%|███████████████████████████████████████████| 12/12 [00:06<00:00,  1.84it/s]\n"
     ]
    },
    {
     "name": "stdout",
     "output_type": "stream",
     "text": [
      "Epoch 88\n",
      "classification validation loss: 0.32704\n",
      "classification validation accuracy: 0.91732\n",
      "\n"
     ]
    },
    {
     "name": "stderr",
     "output_type": "stream",
     "text": [
      "100%|███████████████████████████████████████████| 49/49 [00:32<00:00,  1.49it/s]\n"
     ]
    },
    {
     "name": "stdout",
     "output_type": "stream",
     "text": [
      "Adjusting learning rate of group 0 to 8.3016e-01.\n",
      "Epoch 89\n",
      "classification training loss: 0.04036\n",
      "classification training accuracy: 0.97975\n",
      "\n"
     ]
    },
    {
     "name": "stderr",
     "output_type": "stream",
     "text": [
      "100%|███████████████████████████████████████████| 12/12 [00:06<00:00,  1.87it/s]\n"
     ]
    },
    {
     "name": "stdout",
     "output_type": "stream",
     "text": [
      "Epoch 89\n",
      "classification validation loss: 0.29666\n",
      "classification validation accuracy: 0.92057\n",
      "\n"
     ]
    },
    {
     "name": "stderr",
     "output_type": "stream",
     "text": [
      "100%|███████████████████████████████████████████| 49/49 [00:32<00:00,  1.51it/s]\n"
     ]
    },
    {
     "name": "stdout",
     "output_type": "stream",
     "text": [
      "Adjusting learning rate of group 0 to 8.2977e-01.\n",
      "saved checkpoint for epoch 90\n",
      "Epoch 90\n",
      "classification training loss: 0.03579\n",
      "classification training accuracy: 0.98262\n",
      "\n"
     ]
    },
    {
     "name": "stderr",
     "output_type": "stream",
     "text": [
      "100%|███████████████████████████████████████████| 12/12 [00:06<00:00,  1.84it/s]\n"
     ]
    },
    {
     "name": "stdout",
     "output_type": "stream",
     "text": [
      "Epoch 90\n",
      "classification validation loss: 0.32334\n",
      "classification validation accuracy: 0.91862\n",
      "\n"
     ]
    },
    {
     "name": "stderr",
     "output_type": "stream",
     "text": [
      "100%|███████████████████████████████████████████| 49/49 [00:32<00:00,  1.50it/s]\n"
     ]
    },
    {
     "name": "stdout",
     "output_type": "stream",
     "text": [
      "Adjusting learning rate of group 0 to 8.2938e-01.\n",
      "Epoch 91\n",
      "classification training loss: 0.03300\n",
      "classification training accuracy: 0.98246\n",
      "\n"
     ]
    },
    {
     "name": "stderr",
     "output_type": "stream",
     "text": [
      "100%|███████████████████████████████████████████| 12/12 [00:06<00:00,  1.88it/s]\n"
     ]
    },
    {
     "name": "stdout",
     "output_type": "stream",
     "text": [
      "Epoch 91\n",
      "classification validation loss: 0.29042\n",
      "classification validation accuracy: 0.92513\n",
      "\n"
     ]
    },
    {
     "name": "stderr",
     "output_type": "stream",
     "text": [
      "100%|███████████████████████████████████████████| 49/49 [00:33<00:00,  1.48it/s]\n"
     ]
    },
    {
     "name": "stdout",
     "output_type": "stream",
     "text": [
      "Adjusting learning rate of group 0 to 8.2898e-01.\n",
      "Epoch 92\n",
      "classification training loss: 0.03482\n",
      "classification training accuracy: 0.98230\n",
      "\n"
     ]
    },
    {
     "name": "stderr",
     "output_type": "stream",
     "text": [
      "100%|███████████████████████████████████████████| 12/12 [00:06<00:00,  1.84it/s]\n"
     ]
    },
    {
     "name": "stdout",
     "output_type": "stream",
     "text": [
      "Epoch 92\n",
      "classification validation loss: 0.35658\n",
      "classification validation accuracy: 0.91146\n",
      "\n"
     ]
    },
    {
     "name": "stderr",
     "output_type": "stream",
     "text": [
      "100%|███████████████████████████████████████████| 49/49 [00:33<00:00,  1.48it/s]\n"
     ]
    },
    {
     "name": "stdout",
     "output_type": "stream",
     "text": [
      "Adjusting learning rate of group 0 to 8.2858e-01.\n",
      "Epoch 93\n",
      "classification training loss: 0.04205\n",
      "classification training accuracy: 0.98055\n",
      "\n"
     ]
    },
    {
     "name": "stderr",
     "output_type": "stream",
     "text": [
      "100%|███████████████████████████████████████████| 12/12 [00:06<00:00,  1.76it/s]\n"
     ]
    },
    {
     "name": "stdout",
     "output_type": "stream",
     "text": [
      "Epoch 93\n",
      "classification validation loss: 0.32411\n",
      "classification validation accuracy: 0.92253\n",
      "\n"
     ]
    },
    {
     "name": "stderr",
     "output_type": "stream",
     "text": [
      "100%|███████████████████████████████████████████| 49/49 [00:32<00:00,  1.49it/s]\n"
     ]
    },
    {
     "name": "stdout",
     "output_type": "stream",
     "text": [
      "Adjusting learning rate of group 0 to 8.2817e-01.\n",
      "Epoch 94\n",
      "classification training loss: 0.03449\n",
      "classification training accuracy: 0.98278\n",
      "\n"
     ]
    },
    {
     "name": "stderr",
     "output_type": "stream",
     "text": [
      "100%|███████████████████████████████████████████| 12/12 [00:06<00:00,  1.85it/s]\n"
     ]
    },
    {
     "name": "stdout",
     "output_type": "stream",
     "text": [
      "Epoch 94\n",
      "classification validation loss: 0.36159\n",
      "classification validation accuracy: 0.91406\n",
      "\n"
     ]
    },
    {
     "name": "stderr",
     "output_type": "stream",
     "text": [
      "100%|███████████████████████████████████████████| 49/49 [00:32<00:00,  1.51it/s]\n"
     ]
    },
    {
     "name": "stdout",
     "output_type": "stream",
     "text": [
      "Adjusting learning rate of group 0 to 8.2776e-01.\n",
      "Epoch 95\n",
      "classification training loss: 0.03559\n",
      "classification training accuracy: 0.98119\n",
      "\n"
     ]
    },
    {
     "name": "stderr",
     "output_type": "stream",
     "text": [
      "100%|███████████████████████████████████████████| 12/12 [00:06<00:00,  1.89it/s]\n"
     ]
    },
    {
     "name": "stdout",
     "output_type": "stream",
     "text": [
      "Epoch 95\n",
      "classification validation loss: 0.34116\n",
      "classification validation accuracy: 0.91146\n",
      "\n"
     ]
    },
    {
     "name": "stderr",
     "output_type": "stream",
     "text": [
      "100%|███████████████████████████████████████████| 49/49 [00:32<00:00,  1.50it/s]\n"
     ]
    },
    {
     "name": "stdout",
     "output_type": "stream",
     "text": [
      "Adjusting learning rate of group 0 to 8.2735e-01.\n",
      "Epoch 96\n",
      "classification training loss: 0.03880\n",
      "classification training accuracy: 0.98166\n",
      "\n"
     ]
    },
    {
     "name": "stderr",
     "output_type": "stream",
     "text": [
      "100%|███████████████████████████████████████████| 12/12 [00:06<00:00,  1.82it/s]\n"
     ]
    },
    {
     "name": "stdout",
     "output_type": "stream",
     "text": [
      "Epoch 96\n",
      "classification validation loss: 0.36150\n",
      "classification validation accuracy: 0.91536\n",
      "\n"
     ]
    },
    {
     "name": "stderr",
     "output_type": "stream",
     "text": [
      "100%|███████████████████████████████████████████| 49/49 [00:32<00:00,  1.49it/s]\n"
     ]
    },
    {
     "name": "stdout",
     "output_type": "stream",
     "text": [
      "Adjusting learning rate of group 0 to 8.2693e-01.\n",
      "Epoch 97\n",
      "classification training loss: 0.03946\n",
      "classification training accuracy: 0.97864\n",
      "\n"
     ]
    },
    {
     "name": "stderr",
     "output_type": "stream",
     "text": [
      "100%|███████████████████████████████████████████| 12/12 [00:06<00:00,  1.84it/s]\n"
     ]
    },
    {
     "name": "stdout",
     "output_type": "stream",
     "text": [
      "Epoch 97\n",
      "classification validation loss: 0.29853\n",
      "classification validation accuracy: 0.91927\n",
      "\n"
     ]
    },
    {
     "name": "stderr",
     "output_type": "stream",
     "text": [
      "100%|███████████████████████████████████████████| 49/49 [00:32<00:00,  1.51it/s]\n"
     ]
    },
    {
     "name": "stdout",
     "output_type": "stream",
     "text": [
      "Adjusting learning rate of group 0 to 8.2651e-01.\n",
      "Epoch 98\n",
      "classification training loss: 0.03409\n",
      "classification training accuracy: 0.98214\n",
      "\n"
     ]
    },
    {
     "name": "stderr",
     "output_type": "stream",
     "text": [
      "100%|███████████████████████████████████████████| 12/12 [00:06<00:00,  1.82it/s]\n"
     ]
    },
    {
     "name": "stdout",
     "output_type": "stream",
     "text": [
      "Epoch 98\n",
      "classification validation loss: 0.28107\n",
      "classification validation accuracy: 0.92318\n",
      "\n"
     ]
    },
    {
     "name": "stderr",
     "output_type": "stream",
     "text": [
      "100%|███████████████████████████████████████████| 49/49 [00:32<00:00,  1.50it/s]\n"
     ]
    },
    {
     "name": "stdout",
     "output_type": "stream",
     "text": [
      "Adjusting learning rate of group 0 to 8.2608e-01.\n",
      "Epoch 99\n",
      "classification training loss: 0.03170\n",
      "classification training accuracy: 0.98453\n",
      "\n"
     ]
    },
    {
     "name": "stderr",
     "output_type": "stream",
     "text": [
      "100%|███████████████████████████████████████████| 12/12 [00:06<00:00,  1.82it/s]\n"
     ]
    },
    {
     "name": "stdout",
     "output_type": "stream",
     "text": [
      "Epoch 99\n",
      "classification validation loss: 0.31287\n",
      "classification validation accuracy: 0.92513\n",
      "\n"
     ]
    },
    {
     "name": "stderr",
     "output_type": "stream",
     "text": [
      "100%|███████████████████████████████████████████| 49/49 [00:32<00:00,  1.51it/s]\n"
     ]
    },
    {
     "name": "stdout",
     "output_type": "stream",
     "text": [
      "Adjusting learning rate of group 0 to 8.2565e-01.\n",
      "saved checkpoint for epoch 100\n",
      "Epoch 100\n",
      "classification training loss: 0.03195\n",
      "classification training accuracy: 0.98517\n",
      "\n"
     ]
    },
    {
     "name": "stderr",
     "output_type": "stream",
     "text": [
      "100%|███████████████████████████████████████████| 12/12 [00:06<00:00,  1.82it/s]"
     ]
    },
    {
     "name": "stdout",
     "output_type": "stream",
     "text": [
      "Epoch 100\n",
      "classification validation loss: 0.34008\n",
      "classification validation accuracy: 0.92253\n",
      "\n"
     ]
    },
    {
     "name": "stderr",
     "output_type": "stream",
     "text": [
      "\n"
     ]
    }
   ],
   "source": [
    "from tqdm import tqdm\n",
    "epochs = 100\n",
    "for epoch in range(epochs):\n",
    "    accuracies = list()\n",
    "    class_losses = list()\n",
    "    classifierModel.train()\n",
    "    for class_batch in tqdm(class_train_dl):\n",
    "        x, y = class_batch\n",
    "        x = x.to(DEVICE)\n",
    "        y = y.to(DEVICE)\n",
    "       \n",
    "        logit = classifierModel(x)\n",
    "        classification_loss = classification_criterion(logit, y)\n",
    "        class_losses.append(classification_loss.item())\n",
    "\n",
    "        classifierModel.zero_grad()\n",
    "        classification_loss.backward()\n",
    "        classification_optimizer.step()\n",
    "\n",
    "        accuracies.append(y.eq(logit.detach().argmax(dim =1)).float().mean())\n",
    "    \n",
    "    class_scheduler.step()\n",
    "    \n",
    "    if (epoch+1)%10==0:\n",
    "        checkpoints = { \n",
    "                'classifier': classifierModel.state_dict(), \n",
    "                'classifier_optimizer': classification_optimizer.state_dict(),\n",
    "                'epochs': epoch + 1,\n",
    "              }\n",
    "        torch.save(checkpoints,f'saved_models/SimCLR-1{root}-Classifier-epoch-{epoch+1}.pth.tar' )\n",
    "        print(f\"saved checkpoint for epoch {epoch + 1}\")\n",
    "\n",
    "\n",
    "    print(f'Epoch {epoch + 1}')\n",
    "    print(f'classification training loss: {torch.tensor(class_losses).mean():.5f}')\n",
    "    print(f'classification training accuracy: {torch.tensor(accuracies).mean():.5f}', \n",
    "          end ='\\n\\n')\n",
    "    \n",
    "\n",
    "    losses = list()\n",
    "    accuracies = list()\n",
    "    classifierModel.eval()\n",
    "    for batch in tqdm(class_valid_dl):\n",
    "        x, y = batch\n",
    "        x = x.to(DEVICE)\n",
    "        y = y.to(DEVICE)\n",
    "        with torch.no_grad():\n",
    "            logit = classifierModel(x)\n",
    "\n",
    "        loss = classification_criterion(logit, y)\n",
    "\n",
    "        losses.append(loss.item())\n",
    "        accuracies.append(y.eq(logit.detach().argmax(dim =1)).float().mean())\n",
    "\n",
    "    print(f'Epoch {epoch + 1}')\n",
    "    print(f'classification validation loss: {torch.tensor(losses).mean():.5f}')\n",
    "    print(f'classification validation accuracy: {torch.tensor(accuracies).mean():.5f}', \n",
    "          end ='\\n\\n')\n"
   ]
  },
  {
   "cell_type": "code",
   "execution_count": null,
   "id": "ef979f65",
   "metadata": {},
   "outputs": [],
   "source": []
  },
  {
   "cell_type": "code",
   "execution_count": 153,
   "id": "f280e117",
   "metadata": {},
   "outputs": [
    {
     "name": "stdout",
     "output_type": "stream",
     "text": [
      "['A', 'DC', 'F', 'LC', 'MC', 'PC', 'PT', 'TA']\n"
     ]
    }
   ],
   "source": [
    "target_names = list(labelMap.keys())\n",
    "print(target_names)"
   ]
  },
  {
   "cell_type": "code",
   "execution_count": 154,
   "id": "bfd56562",
   "metadata": {},
   "outputs": [],
   "source": [
    "from sklearn.metrics import classification_report"
   ]
  },
  {
   "cell_type": "code",
   "execution_count": 155,
   "id": "910265d7",
   "metadata": {},
   "outputs": [
    {
     "name": "stderr",
     "output_type": "stream",
     "text": [
      "100%|███████████████████████████████████████████| 12/12 [00:06<00:00,  1.83it/s]\n"
     ]
    }
   ],
   "source": [
    "from tqdm import tqdm\n",
    "true_labels = []\n",
    "predicted_labels = []\n",
    "classifierModel.eval()\n",
    "for batch in tqdm(class_valid_dl):\n",
    "    x, y = batch\n",
    "    x = x.to(DEVICE)\n",
    "    y = y.to(DEVICE)\n",
    "    with torch.no_grad():\n",
    "        logit = classifierModel(x)\n",
    "\n",
    "    prediction = logit.detach().argmax(dim =1)\n",
    "\n",
    "    true_labels += y.tolist()\n",
    "    predicted_labels += prediction.tolist()"
   ]
  },
  {
   "cell_type": "code",
   "execution_count": 156,
   "id": "7d9a4745",
   "metadata": {},
   "outputs": [
    {
     "name": "stdout",
     "output_type": "stream",
     "text": [
      "              precision    recall  f1-score   support\n",
      "\n",
      "           A       0.95      0.98      0.96        88\n",
      "          DC       0.94      0.94      0.94       665\n",
      "           F       0.94      0.93      0.93       198\n",
      "          LC       0.76      0.74      0.75       123\n",
      "          MC       0.89      0.97      0.93       153\n",
      "          PC       0.93      0.91      0.92       107\n",
      "          PT       0.91      0.86      0.88        90\n",
      "          TA       0.97      0.96      0.97       112\n",
      "\n",
      "    accuracy                           0.92      1536\n",
      "   macro avg       0.91      0.91      0.91      1536\n",
      "weighted avg       0.92      0.92      0.92      1536\n",
      "\n"
     ]
    }
   ],
   "source": [
    "print(classification_report(true_labels, predicted_labels, target_names=target_names))"
   ]
  },
  {
   "cell_type": "code",
   "execution_count": null,
   "id": "33a0a261",
   "metadata": {},
   "outputs": [],
   "source": []
  }
 ],
 "metadata": {
  "kernelspec": {
   "display_name": "Python 3 (ipykernel)",
   "language": "python",
   "name": "python3"
  },
  "language_info": {
   "codemirror_mode": {
    "name": "ipython",
    "version": 3
   },
   "file_extension": ".py",
   "mimetype": "text/x-python",
   "name": "python",
   "nbconvert_exporter": "python",
   "pygments_lexer": "ipython3",
   "version": "3.9.5"
  }
 },
 "nbformat": 4,
 "nbformat_minor": 5
}
